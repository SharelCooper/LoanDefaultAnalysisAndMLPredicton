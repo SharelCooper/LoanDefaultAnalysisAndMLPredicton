{
 "cells": [
  {
   "cell_type": "markdown",
   "id": "57e4c395-f623-4b07-9677-cfc5bdd4e4df",
   "metadata": {},
   "source": [
    "# Loan Default Analysis and Prediction\n"
   ]
  },
  {
   "cell_type": "code",
   "execution_count": 67,
   "id": "e3330930-d139-4bf4-a016-2ac064acfed7",
   "metadata": {},
   "outputs": [],
   "source": [
    "# We import the libraries we will need.\n",
    "import pandas as pd\n",
    "import numpy as np\n",
    "import re\n",
    "import matplotlib.pyplot as plt\n",
    "import matplotlib as plt1\n",
    "import seaborn as sns\n",
    "import scipy.stats as st\n",
    "import seaborn as sns\n",
    "from matplotlib.ticker import FormatStrFormatter\n",
    "#pd.set_option(\"max_rows\",None)\n",
    "\n",
    "plt.rcParams['figure.figsize'] = [10,7]\n",
    "\n",
    "# Print multiple outputs per cell\n",
    "from IPython.core.interactiveshell import InteractiveShell\n",
    "InteractiveShell.ast_node_interactivity = 'all'\n",
    "\n",
    "# Import library to hide warnings\n",
    "import warnings\n",
    "warnings.filterwarnings(\"ignore\")"
   ]
  },
  {
   "cell_type": "code",
   "execution_count": 2,
   "id": "987f68db-cecb-45f0-8839-ad025068c143",
   "metadata": {},
   "outputs": [],
   "source": [
    "# License - CC0: Public Domain\n",
    "# Domain - Public\n",
    "# Sources - Kaggle\n",
    "# Dataset owner - Gaurav Dutta\n",
    "# Date created - 2020-07-30\n",
    "# The Problem Statement - To know which client is more likely to default\n",
    "\n",
    "# We'll load the data set and create an object for it\n",
    "df = pd.read_csv(\"application_data.csv\")"
   ]
  },
  {
   "cell_type": "code",
   "execution_count": 3,
   "id": "8c932683-a2aa-482d-b706-d4476b71acfc",
   "metadata": {},
   "outputs": [
    {
     "name": "stdout",
     "output_type": "stream",
     "text": [
      "The number of rows and columns is (307511, 122)\n",
      "The number of unique loans is: (307511,)\n"
     ]
    },
    {
     "data": {
      "text/html": [
       "<div>\n",
       "<style scoped>\n",
       "    .dataframe tbody tr th:only-of-type {\n",
       "        vertical-align: middle;\n",
       "    }\n",
       "\n",
       "    .dataframe tbody tr th {\n",
       "        vertical-align: top;\n",
       "    }\n",
       "\n",
       "    .dataframe thead th {\n",
       "        text-align: right;\n",
       "    }\n",
       "</style>\n",
       "<table border=\"1\" class=\"dataframe\">\n",
       "  <thead>\n",
       "    <tr style=\"text-align: right;\">\n",
       "      <th></th>\n",
       "      <th>SK_ID_CURR</th>\n",
       "      <th>TARGET</th>\n",
       "      <th>NAME_CONTRACT_TYPE</th>\n",
       "      <th>CODE_GENDER</th>\n",
       "      <th>FLAG_OWN_CAR</th>\n",
       "      <th>FLAG_OWN_REALTY</th>\n",
       "      <th>CNT_CHILDREN</th>\n",
       "      <th>AMT_INCOME_TOTAL</th>\n",
       "      <th>AMT_CREDIT</th>\n",
       "      <th>AMT_ANNUITY</th>\n",
       "      <th>...</th>\n",
       "      <th>FLAG_DOCUMENT_18</th>\n",
       "      <th>FLAG_DOCUMENT_19</th>\n",
       "      <th>FLAG_DOCUMENT_20</th>\n",
       "      <th>FLAG_DOCUMENT_21</th>\n",
       "      <th>AMT_REQ_CREDIT_BUREAU_HOUR</th>\n",
       "      <th>AMT_REQ_CREDIT_BUREAU_DAY</th>\n",
       "      <th>AMT_REQ_CREDIT_BUREAU_WEEK</th>\n",
       "      <th>AMT_REQ_CREDIT_BUREAU_MON</th>\n",
       "      <th>AMT_REQ_CREDIT_BUREAU_QRT</th>\n",
       "      <th>AMT_REQ_CREDIT_BUREAU_YEAR</th>\n",
       "    </tr>\n",
       "  </thead>\n",
       "  <tbody>\n",
       "    <tr>\n",
       "      <th>0</th>\n",
       "      <td>100002</td>\n",
       "      <td>1</td>\n",
       "      <td>Cash loans</td>\n",
       "      <td>M</td>\n",
       "      <td>N</td>\n",
       "      <td>Y</td>\n",
       "      <td>0</td>\n",
       "      <td>202500.0</td>\n",
       "      <td>406597.5</td>\n",
       "      <td>24700.5</td>\n",
       "      <td>...</td>\n",
       "      <td>0</td>\n",
       "      <td>0</td>\n",
       "      <td>0</td>\n",
       "      <td>0</td>\n",
       "      <td>0.0</td>\n",
       "      <td>0.0</td>\n",
       "      <td>0.0</td>\n",
       "      <td>0.0</td>\n",
       "      <td>0.0</td>\n",
       "      <td>1.0</td>\n",
       "    </tr>\n",
       "    <tr>\n",
       "      <th>1</th>\n",
       "      <td>100003</td>\n",
       "      <td>0</td>\n",
       "      <td>Cash loans</td>\n",
       "      <td>F</td>\n",
       "      <td>N</td>\n",
       "      <td>N</td>\n",
       "      <td>0</td>\n",
       "      <td>270000.0</td>\n",
       "      <td>1293502.5</td>\n",
       "      <td>35698.5</td>\n",
       "      <td>...</td>\n",
       "      <td>0</td>\n",
       "      <td>0</td>\n",
       "      <td>0</td>\n",
       "      <td>0</td>\n",
       "      <td>0.0</td>\n",
       "      <td>0.0</td>\n",
       "      <td>0.0</td>\n",
       "      <td>0.0</td>\n",
       "      <td>0.0</td>\n",
       "      <td>0.0</td>\n",
       "    </tr>\n",
       "    <tr>\n",
       "      <th>2</th>\n",
       "      <td>100004</td>\n",
       "      <td>0</td>\n",
       "      <td>Revolving loans</td>\n",
       "      <td>M</td>\n",
       "      <td>Y</td>\n",
       "      <td>Y</td>\n",
       "      <td>0</td>\n",
       "      <td>67500.0</td>\n",
       "      <td>135000.0</td>\n",
       "      <td>6750.0</td>\n",
       "      <td>...</td>\n",
       "      <td>0</td>\n",
       "      <td>0</td>\n",
       "      <td>0</td>\n",
       "      <td>0</td>\n",
       "      <td>0.0</td>\n",
       "      <td>0.0</td>\n",
       "      <td>0.0</td>\n",
       "      <td>0.0</td>\n",
       "      <td>0.0</td>\n",
       "      <td>0.0</td>\n",
       "    </tr>\n",
       "    <tr>\n",
       "      <th>3</th>\n",
       "      <td>100006</td>\n",
       "      <td>0</td>\n",
       "      <td>Cash loans</td>\n",
       "      <td>F</td>\n",
       "      <td>N</td>\n",
       "      <td>Y</td>\n",
       "      <td>0</td>\n",
       "      <td>135000.0</td>\n",
       "      <td>312682.5</td>\n",
       "      <td>29686.5</td>\n",
       "      <td>...</td>\n",
       "      <td>0</td>\n",
       "      <td>0</td>\n",
       "      <td>0</td>\n",
       "      <td>0</td>\n",
       "      <td>NaN</td>\n",
       "      <td>NaN</td>\n",
       "      <td>NaN</td>\n",
       "      <td>NaN</td>\n",
       "      <td>NaN</td>\n",
       "      <td>NaN</td>\n",
       "    </tr>\n",
       "    <tr>\n",
       "      <th>4</th>\n",
       "      <td>100007</td>\n",
       "      <td>0</td>\n",
       "      <td>Cash loans</td>\n",
       "      <td>M</td>\n",
       "      <td>N</td>\n",
       "      <td>Y</td>\n",
       "      <td>0</td>\n",
       "      <td>121500.0</td>\n",
       "      <td>513000.0</td>\n",
       "      <td>21865.5</td>\n",
       "      <td>...</td>\n",
       "      <td>0</td>\n",
       "      <td>0</td>\n",
       "      <td>0</td>\n",
       "      <td>0</td>\n",
       "      <td>0.0</td>\n",
       "      <td>0.0</td>\n",
       "      <td>0.0</td>\n",
       "      <td>0.0</td>\n",
       "      <td>0.0</td>\n",
       "      <td>0.0</td>\n",
       "    </tr>\n",
       "  </tbody>\n",
       "</table>\n",
       "<p>5 rows × 122 columns</p>\n",
       "</div>"
      ],
      "text/plain": [
       "   SK_ID_CURR  TARGET NAME_CONTRACT_TYPE CODE_GENDER FLAG_OWN_CAR  \\\n",
       "0      100002       1         Cash loans           M            N   \n",
       "1      100003       0         Cash loans           F            N   \n",
       "2      100004       0    Revolving loans           M            Y   \n",
       "3      100006       0         Cash loans           F            N   \n",
       "4      100007       0         Cash loans           M            N   \n",
       "\n",
       "  FLAG_OWN_REALTY  CNT_CHILDREN  AMT_INCOME_TOTAL  AMT_CREDIT  AMT_ANNUITY  \\\n",
       "0               Y             0          202500.0    406597.5      24700.5   \n",
       "1               N             0          270000.0   1293502.5      35698.5   \n",
       "2               Y             0           67500.0    135000.0       6750.0   \n",
       "3               Y             0          135000.0    312682.5      29686.5   \n",
       "4               Y             0          121500.0    513000.0      21865.5   \n",
       "\n",
       "   ...  FLAG_DOCUMENT_18 FLAG_DOCUMENT_19 FLAG_DOCUMENT_20 FLAG_DOCUMENT_21  \\\n",
       "0  ...                 0                0                0                0   \n",
       "1  ...                 0                0                0                0   \n",
       "2  ...                 0                0                0                0   \n",
       "3  ...                 0                0                0                0   \n",
       "4  ...                 0                0                0                0   \n",
       "\n",
       "  AMT_REQ_CREDIT_BUREAU_HOUR AMT_REQ_CREDIT_BUREAU_DAY  \\\n",
       "0                        0.0                       0.0   \n",
       "1                        0.0                       0.0   \n",
       "2                        0.0                       0.0   \n",
       "3                        NaN                       NaN   \n",
       "4                        0.0                       0.0   \n",
       "\n",
       "   AMT_REQ_CREDIT_BUREAU_WEEK  AMT_REQ_CREDIT_BUREAU_MON  \\\n",
       "0                         0.0                        0.0   \n",
       "1                         0.0                        0.0   \n",
       "2                         0.0                        0.0   \n",
       "3                         NaN                        NaN   \n",
       "4                         0.0                        0.0   \n",
       "\n",
       "   AMT_REQ_CREDIT_BUREAU_QRT  AMT_REQ_CREDIT_BUREAU_YEAR  \n",
       "0                        0.0                         1.0  \n",
       "1                        0.0                         0.0  \n",
       "2                        0.0                         0.0  \n",
       "3                        NaN                         NaN  \n",
       "4                        0.0                         0.0  \n",
       "\n",
       "[5 rows x 122 columns]"
      ]
     },
     "execution_count": 3,
     "metadata": {},
     "output_type": "execute_result"
    },
    {
     "name": "stdout",
     "output_type": "stream",
     "text": [
      "<class 'pandas.core.frame.DataFrame'>\n",
      "RangeIndex: 307511 entries, 0 to 307510\n",
      "Data columns (total 122 columns):\n",
      " #    Column                        Non-Null Count   Dtype  \n",
      "---   ------                        --------------   -----  \n",
      " 0    SK_ID_CURR                    307511 non-null  int64  \n",
      " 1    TARGET                        307511 non-null  int64  \n",
      " 2    NAME_CONTRACT_TYPE            307511 non-null  object \n",
      " 3    CODE_GENDER                   307511 non-null  object \n",
      " 4    FLAG_OWN_CAR                  307511 non-null  object \n",
      " 5    FLAG_OWN_REALTY               307511 non-null  object \n",
      " 6    CNT_CHILDREN                  307511 non-null  int64  \n",
      " 7    AMT_INCOME_TOTAL              307511 non-null  float64\n",
      " 8    AMT_CREDIT                    307511 non-null  float64\n",
      " 9    AMT_ANNUITY                   307499 non-null  float64\n",
      " 10   AMT_GOODS_PRICE               307233 non-null  float64\n",
      " 11   NAME_TYPE_SUITE               306219 non-null  object \n",
      " 12   NAME_INCOME_TYPE              307511 non-null  object \n",
      " 13   NAME_EDUCATION_TYPE           307511 non-null  object \n",
      " 14   NAME_FAMILY_STATUS            307511 non-null  object \n",
      " 15   NAME_HOUSING_TYPE             307511 non-null  object \n",
      " 16   REGION_POPULATION_RELATIVE    307511 non-null  float64\n",
      " 17   DAYS_BIRTH                    307511 non-null  int64  \n",
      " 18   DAYS_EMPLOYED                 307511 non-null  int64  \n",
      " 19   DAYS_REGISTRATION             307511 non-null  float64\n",
      " 20   DAYS_ID_PUBLISH               307511 non-null  int64  \n",
      " 21   OWN_CAR_AGE                   104582 non-null  float64\n",
      " 22   FLAG_MOBIL                    307511 non-null  int64  \n",
      " 23   FLAG_EMP_PHONE                307511 non-null  int64  \n",
      " 24   FLAG_WORK_PHONE               307511 non-null  int64  \n",
      " 25   FLAG_CONT_MOBILE              307511 non-null  int64  \n",
      " 26   FLAG_PHONE                    307511 non-null  int64  \n",
      " 27   FLAG_EMAIL                    307511 non-null  int64  \n",
      " 28   OCCUPATION_TYPE               211120 non-null  object \n",
      " 29   CNT_FAM_MEMBERS               307509 non-null  float64\n",
      " 30   REGION_RATING_CLIENT          307511 non-null  int64  \n",
      " 31   REGION_RATING_CLIENT_W_CITY   307511 non-null  int64  \n",
      " 32   WEEKDAY_APPR_PROCESS_START    307511 non-null  object \n",
      " 33   HOUR_APPR_PROCESS_START       307511 non-null  int64  \n",
      " 34   REG_REGION_NOT_LIVE_REGION    307511 non-null  int64  \n",
      " 35   REG_REGION_NOT_WORK_REGION    307511 non-null  int64  \n",
      " 36   LIVE_REGION_NOT_WORK_REGION   307511 non-null  int64  \n",
      " 37   REG_CITY_NOT_LIVE_CITY        307511 non-null  int64  \n",
      " 38   REG_CITY_NOT_WORK_CITY        307511 non-null  int64  \n",
      " 39   LIVE_CITY_NOT_WORK_CITY       307511 non-null  int64  \n",
      " 40   ORGANIZATION_TYPE             307511 non-null  object \n",
      " 41   EXT_SOURCE_1                  134133 non-null  float64\n",
      " 42   EXT_SOURCE_2                  306851 non-null  float64\n",
      " 43   EXT_SOURCE_3                  246546 non-null  float64\n",
      " 44   APARTMENTS_AVG                151450 non-null  float64\n",
      " 45   BASEMENTAREA_AVG              127568 non-null  float64\n",
      " 46   YEARS_BEGINEXPLUATATION_AVG   157504 non-null  float64\n",
      " 47   YEARS_BUILD_AVG               103023 non-null  float64\n",
      " 48   COMMONAREA_AVG                92646 non-null   float64\n",
      " 49   ELEVATORS_AVG                 143620 non-null  float64\n",
      " 50   ENTRANCES_AVG                 152683 non-null  float64\n",
      " 51   FLOORSMAX_AVG                 154491 non-null  float64\n",
      " 52   FLOORSMIN_AVG                 98869 non-null   float64\n",
      " 53   LANDAREA_AVG                  124921 non-null  float64\n",
      " 54   LIVINGAPARTMENTS_AVG          97312 non-null   float64\n",
      " 55   LIVINGAREA_AVG                153161 non-null  float64\n",
      " 56   NONLIVINGAPARTMENTS_AVG       93997 non-null   float64\n",
      " 57   NONLIVINGAREA_AVG             137829 non-null  float64\n",
      " 58   APARTMENTS_MODE               151450 non-null  float64\n",
      " 59   BASEMENTAREA_MODE             127568 non-null  float64\n",
      " 60   YEARS_BEGINEXPLUATATION_MODE  157504 non-null  float64\n",
      " 61   YEARS_BUILD_MODE              103023 non-null  float64\n",
      " 62   COMMONAREA_MODE               92646 non-null   float64\n",
      " 63   ELEVATORS_MODE                143620 non-null  float64\n",
      " 64   ENTRANCES_MODE                152683 non-null  float64\n",
      " 65   FLOORSMAX_MODE                154491 non-null  float64\n",
      " 66   FLOORSMIN_MODE                98869 non-null   float64\n",
      " 67   LANDAREA_MODE                 124921 non-null  float64\n",
      " 68   LIVINGAPARTMENTS_MODE         97312 non-null   float64\n",
      " 69   LIVINGAREA_MODE               153161 non-null  float64\n",
      " 70   NONLIVINGAPARTMENTS_MODE      93997 non-null   float64\n",
      " 71   NONLIVINGAREA_MODE            137829 non-null  float64\n",
      " 72   APARTMENTS_MEDI               151450 non-null  float64\n",
      " 73   BASEMENTAREA_MEDI             127568 non-null  float64\n",
      " 74   YEARS_BEGINEXPLUATATION_MEDI  157504 non-null  float64\n",
      " 75   YEARS_BUILD_MEDI              103023 non-null  float64\n",
      " 76   COMMONAREA_MEDI               92646 non-null   float64\n",
      " 77   ELEVATORS_MEDI                143620 non-null  float64\n",
      " 78   ENTRANCES_MEDI                152683 non-null  float64\n",
      " 79   FLOORSMAX_MEDI                154491 non-null  float64\n",
      " 80   FLOORSMIN_MEDI                98869 non-null   float64\n",
      " 81   LANDAREA_MEDI                 124921 non-null  float64\n",
      " 82   LIVINGAPARTMENTS_MEDI         97312 non-null   float64\n",
      " 83   LIVINGAREA_MEDI               153161 non-null  float64\n",
      " 84   NONLIVINGAPARTMENTS_MEDI      93997 non-null   float64\n",
      " 85   NONLIVINGAREA_MEDI            137829 non-null  float64\n",
      " 86   FONDKAPREMONT_MODE            97216 non-null   object \n",
      " 87   HOUSETYPE_MODE                153214 non-null  object \n",
      " 88   TOTALAREA_MODE                159080 non-null  float64\n",
      " 89   WALLSMATERIAL_MODE            151170 non-null  object \n",
      " 90   EMERGENCYSTATE_MODE           161756 non-null  object \n",
      " 91   OBS_30_CNT_SOCIAL_CIRCLE      306490 non-null  float64\n",
      " 92   DEF_30_CNT_SOCIAL_CIRCLE      306490 non-null  float64\n",
      " 93   OBS_60_CNT_SOCIAL_CIRCLE      306490 non-null  float64\n",
      " 94   DEF_60_CNT_SOCIAL_CIRCLE      306490 non-null  float64\n",
      " 95   DAYS_LAST_PHONE_CHANGE        307510 non-null  float64\n",
      " 96   FLAG_DOCUMENT_2               307511 non-null  int64  \n",
      " 97   FLAG_DOCUMENT_3               307511 non-null  int64  \n",
      " 98   FLAG_DOCUMENT_4               307511 non-null  int64  \n",
      " 99   FLAG_DOCUMENT_5               307511 non-null  int64  \n",
      " 100  FLAG_DOCUMENT_6               307511 non-null  int64  \n",
      " 101  FLAG_DOCUMENT_7               307511 non-null  int64  \n",
      " 102  FLAG_DOCUMENT_8               307511 non-null  int64  \n",
      " 103  FLAG_DOCUMENT_9               307511 non-null  int64  \n",
      " 104  FLAG_DOCUMENT_10              307511 non-null  int64  \n",
      " 105  FLAG_DOCUMENT_11              307511 non-null  int64  \n",
      " 106  FLAG_DOCUMENT_12              307511 non-null  int64  \n",
      " 107  FLAG_DOCUMENT_13              307511 non-null  int64  \n",
      " 108  FLAG_DOCUMENT_14              307511 non-null  int64  \n",
      " 109  FLAG_DOCUMENT_15              307511 non-null  int64  \n",
      " 110  FLAG_DOCUMENT_16              307511 non-null  int64  \n",
      " 111  FLAG_DOCUMENT_17              307511 non-null  int64  \n",
      " 112  FLAG_DOCUMENT_18              307511 non-null  int64  \n",
      " 113  FLAG_DOCUMENT_19              307511 non-null  int64  \n",
      " 114  FLAG_DOCUMENT_20              307511 non-null  int64  \n",
      " 115  FLAG_DOCUMENT_21              307511 non-null  int64  \n",
      " 116  AMT_REQ_CREDIT_BUREAU_HOUR    265992 non-null  float64\n",
      " 117  AMT_REQ_CREDIT_BUREAU_DAY     265992 non-null  float64\n",
      " 118  AMT_REQ_CREDIT_BUREAU_WEEK    265992 non-null  float64\n",
      " 119  AMT_REQ_CREDIT_BUREAU_MON     265992 non-null  float64\n",
      " 120  AMT_REQ_CREDIT_BUREAU_QRT     265992 non-null  float64\n",
      " 121  AMT_REQ_CREDIT_BUREAU_YEAR    265992 non-null  float64\n",
      "dtypes: float64(65), int64(41), object(16)\n",
      "memory usage: 286.2+ MB\n"
     ]
    }
   ],
   "source": [
    "# We take a look at the data and try to get an initial sense for it\n",
    "print(f'The number of rows and columns is {df.shape}')\n",
    "# Check that there are no duplicate loan applications \n",
    "print(f\"The number of unique loans is: {df.SK_ID_CURR.unique().shape}\")\n",
    "\n",
    "df.head()\n",
    "# Show all column names their Dtypes and count of non-null values\n",
    "df.info(verbose=True,null_counts=True)"
   ]
  },
  {
   "cell_type": "markdown",
   "id": "f75bf645-482f-4cd1-8d70-3788a50c6829",
   "metadata": {},
   "source": [
    "## EDA, Data Cleaning and Preperation\n",
    "### Feature space reduction"
   ]
  },
  {
   "cell_type": "code",
   "execution_count": 4,
   "id": "8a323513-43fe-480c-9183-85171715add6",
   "metadata": {},
   "outputs": [
    {
     "data": {
      "text/plain": [
       "COMMONAREA_MEDI                 69.872297\n",
       "COMMONAREA_AVG                  69.872297\n",
       "COMMONAREA_MODE                 69.872297\n",
       "NONLIVINGAPARTMENTS_MODE        69.432963\n",
       "NONLIVINGAPARTMENTS_AVG         69.432963\n",
       "NONLIVINGAPARTMENTS_MEDI        69.432963\n",
       "FONDKAPREMONT_MODE              68.386172\n",
       "LIVINGAPARTMENTS_MODE           68.354953\n",
       "LIVINGAPARTMENTS_AVG            68.354953\n",
       "LIVINGAPARTMENTS_MEDI           68.354953\n",
       "FLOORSMIN_AVG                   67.848630\n",
       "FLOORSMIN_MODE                  67.848630\n",
       "FLOORSMIN_MEDI                  67.848630\n",
       "YEARS_BUILD_MEDI                66.497784\n",
       "YEARS_BUILD_MODE                66.497784\n",
       "YEARS_BUILD_AVG                 66.497784\n",
       "OWN_CAR_AGE                     65.990810\n",
       "LANDAREA_MEDI                   59.376738\n",
       "LANDAREA_MODE                   59.376738\n",
       "LANDAREA_AVG                    59.376738\n",
       "BASEMENTAREA_MEDI               58.515956\n",
       "BASEMENTAREA_AVG                58.515956\n",
       "BASEMENTAREA_MODE               58.515956\n",
       "EXT_SOURCE_1                    56.381073\n",
       "NONLIVINGAREA_MODE              55.179164\n",
       "NONLIVINGAREA_AVG               55.179164\n",
       "NONLIVINGAREA_MEDI              55.179164\n",
       "ELEVATORS_MEDI                  53.295980\n",
       "ELEVATORS_AVG                   53.295980\n",
       "ELEVATORS_MODE                  53.295980\n",
       "WALLSMATERIAL_MODE              50.840783\n",
       "APARTMENTS_MEDI                 50.749729\n",
       "APARTMENTS_AVG                  50.749729\n",
       "APARTMENTS_MODE                 50.749729\n",
       "ENTRANCES_MEDI                  50.348768\n",
       "ENTRANCES_AVG                   50.348768\n",
       "ENTRANCES_MODE                  50.348768\n",
       "LIVINGAREA_AVG                  50.193326\n",
       "LIVINGAREA_MODE                 50.193326\n",
       "LIVINGAREA_MEDI                 50.193326\n",
       "HOUSETYPE_MODE                  50.176091\n",
       "FLOORSMAX_MODE                  49.760822\n",
       "FLOORSMAX_MEDI                  49.760822\n",
       "FLOORSMAX_AVG                   49.760822\n",
       "YEARS_BEGINEXPLUATATION_MODE    48.781019\n",
       "dtype: float64"
      ]
     },
     "execution_count": 4,
     "metadata": {},
     "output_type": "execute_result"
    }
   ],
   "source": [
    "# We see significant variability in the number of values for each column from above\n",
    "# Let's see the Percentage of null values in each column\n",
    "percentNull = df.isnull().sum()*100 /len(df)\n",
    "# We see a list of the top 45 columns with Null values\n",
    "percentNull.sort_values(ascending = False).head(45)"
   ]
  },
  {
   "cell_type": "code",
   "execution_count": 5,
   "id": "5b6ac00b-d62d-4223-ac1b-b0b593653707",
   "metadata": {},
   "outputs": [
    {
     "data": {
      "text/plain": [
       "Index(['OWN_CAR_AGE', 'EXT_SOURCE_1', 'APARTMENTS_AVG', 'BASEMENTAREA_AVG',\n",
       "       'YEARS_BEGINEXPLUATATION_AVG', 'YEARS_BUILD_AVG', 'COMMONAREA_AVG',\n",
       "       'ELEVATORS_AVG', 'ENTRANCES_AVG', 'FLOORSMAX_AVG', 'FLOORSMIN_AVG',\n",
       "       'LANDAREA_AVG', 'LIVINGAPARTMENTS_AVG', 'LIVINGAREA_AVG',\n",
       "       'NONLIVINGAPARTMENTS_AVG', 'NONLIVINGAREA_AVG', 'APARTMENTS_MODE',\n",
       "       'BASEMENTAREA_MODE', 'YEARS_BEGINEXPLUATATION_MODE', 'YEARS_BUILD_MODE',\n",
       "       'COMMONAREA_MODE', 'ELEVATORS_MODE', 'ENTRANCES_MODE', 'FLOORSMAX_MODE',\n",
       "       'FLOORSMIN_MODE', 'LANDAREA_MODE', 'LIVINGAPARTMENTS_MODE',\n",
       "       'LIVINGAREA_MODE', 'NONLIVINGAPARTMENTS_MODE', 'NONLIVINGAREA_MODE',\n",
       "       'APARTMENTS_MEDI', 'BASEMENTAREA_MEDI', 'YEARS_BEGINEXPLUATATION_MEDI',\n",
       "       'YEARS_BUILD_MEDI', 'COMMONAREA_MEDI', 'ELEVATORS_MEDI',\n",
       "       'ENTRANCES_MEDI', 'FLOORSMAX_MEDI', 'FLOORSMIN_MEDI', 'LANDAREA_MEDI',\n",
       "       'LIVINGAPARTMENTS_MEDI', 'LIVINGAREA_MEDI', 'NONLIVINGAPARTMENTS_MEDI',\n",
       "       'NONLIVINGAREA_MEDI', 'FONDKAPREMONT_MODE', 'HOUSETYPE_MODE',\n",
       "       'TOTALAREA_MODE', 'WALLSMATERIAL_MODE', 'EMERGENCYSTATE_MODE'],\n",
       "      dtype='object')"
      ]
     },
     "execution_count": 5,
     "metadata": {},
     "output_type": "execute_result"
    }
   ],
   "source": [
    "# Create an object of all the columns having null values that occupy more than 40% of the records\n",
    "top_null_columns = percentNull[percentNull > 40].index\n",
    "top_null_columns\n",
    "# Now we will remove those columns from the dataframe\n",
    "df.drop(top_null_columns, axis=1, inplace=True)"
   ]
  },
  {
   "cell_type": "markdown",
   "id": "b145b7d7-58cf-4208-960e-51fb085ed3be",
   "metadata": {},
   "source": [
    "#\n",
    "I went through the documentation of each column and removed those columns which would either likely not have significant impact, skew the model, or are features that are less likely to be normaly available at the time of application."
   ]
  },
  {
   "cell_type": "code",
   "execution_count": 6,
   "id": "be524f58-99b5-4dde-b748-b8d5863cbbac",
   "metadata": {},
   "outputs": [],
   "source": [
    "# We will also remove the \"Flag_Document\" columns since they have no meaning for us\n",
    "col = list(df.columns)\n",
    "flag = []\n",
    "for i in col:\n",
    "    # The .+ symbol is used in place of * symbol (wild card)\n",
    "    if re.search(\"FLAG_DOCUMENT.+\", i): \n",
    "        flag.append(i)\n",
    "df.drop(flag, axis=1, inplace=True)\n",
    "#We will drop other unnecessary columns that will likely not be usefull, overcomplicate,\n",
    "# and potentially cause over fitting of the model due to a complex feature space.\n",
    "df.drop([\n",
    "\"EXT_SOURCE_3\",\"EXT_SOURCE_2\",\"DAYS_REGISTRATION\",\"DAYS_ID_PUBLISH\",\"FLAG_MOBIL\",\"FLAG_EMP_PHONE\",\n",
    "    \"FLAG_WORK_PHONE\",\"FLAG_CONT_MOBILE\",\"FLAG_PHONE\",\"FLAG_EMAIL\",\"DAYS_REGISTRATION\",\"DAYS_ID_PUBLISH\",\n",
    "\"REG_REGION_NOT_WORK_REGION\",\"LIVE_REGION_NOT_WORK_REGION\",\"REG_CITY_NOT_WORK_CITY\",\"ORGANIZATION_TYPE\",\n",
    "    \"LIVE_CITY_NOT_WORK_CITY\",\"HOUR_APPR_PROCESS_START\",\"NAME_TYPE_SUITE\",\"SK_ID_CURR\"], inplace=True, axis=1)"
   ]
  },
  {
   "cell_type": "code",
   "execution_count": 7,
   "id": "b247e7b8-baa2-4e21-a1b1-b6225d98a302",
   "metadata": {},
   "outputs": [
    {
     "data": {
      "image/png": "[encoded data removed]",
      "text/plain": [
       "<Figure size 720x504 with 2 Axes>"
      ]
     },
     "metadata": {
      "needs_background": "light"
     },
     "output_type": "display_data"
    }
   ],
   "source": [
    "# Lets explore the social_circle columns to see if we need them all\n",
    "Social = df[[\"DEF_60_CNT_SOCIAL_CIRCLE\",\"OBS_30_CNT_SOCIAL_CIRCLE\",\"DEF_30_CNT_SOCIAL_CIRCLE\",\"OBS_60_CNT_SOCIAL_CIRCLE\"]]\n",
    "# Plot corelation of these columns\n",
    "sns.heatmap(Social.corr(), vmin=-1, cmap='coolwarm', annot=True)\n",
    "plt.show();"
   ]
  },
  {
   "cell_type": "code",
   "execution_count": 8,
   "id": "673a3270-eebc-499e-b4f9-25e34bbfe924",
   "metadata": {},
   "outputs": [],
   "source": [
    "# After seeing the corelations above we will drop unecessary columns\n",
    "df.drop([\"OBS_60_CNT_SOCIAL_CIRCLE\",\"DEF_60_CNT_SOCIAL_CIRCLE\"],axis=1,inplace=True)"
   ]
  },
  {
   "cell_type": "code",
   "execution_count": 9,
   "id": "d033717d-748d-427b-84ab-d6a213950bba",
   "metadata": {},
   "outputs": [
    {
     "data": {
      "text/plain": [
       "<AxesSubplot:>"
      ]
     },
     "execution_count": 9,
     "metadata": {},
     "output_type": "execute_result"
    },
    {
     "data": {
      "image/png": "[encoded data removed]",
      "text/plain": [
       "<Figure size 720x504 with 2 Axes>"
      ]
     },
     "metadata": {
      "needs_background": "light"
     },
     "output_type": "display_data"
    }
   ],
   "source": [
    "# Must we keep all of the Bureau columns?\n",
    "# Plotting a corelation matrix for the Bureau columns \n",
    "Bureau = df[[\"AMT_REQ_CREDIT_BUREAU_HOUR\",\"AMT_REQ_CREDIT_BUREAU_YEAR\",\"AMT_REQ_CREDIT_BUREAU_MON\",\"AMT_REQ_CREDIT_BUREAU_QRT\",\"AMT_REQ_CREDIT_BUREAU_DAY\",\"AMT_REQ_CREDIT_BUREAU_WEEK\"]]\n",
    "sns.heatmap(Bureau.corr(), vmin=-1, cmap='coolwarm', annot=True)\n",
    "plt.show();\n",
    "# We don't see significant corelation between the variables. \n",
    "# However, we will use domain knowledge and remove DAY and QRT columns since we need to reduce our feature space.\n",
    "# Note that these columns were also highly skewed and correcting this would result in significant data loss\n",
    "df.drop([\"AMT_REQ_CREDIT_BUREAU_QRT\",\"AMT_REQ_CREDIT_BUREAU_DAY\"],axis=1,inplace=True)"
   ]
  },
  {
   "cell_type": "code",
   "execution_count": 10,
   "id": "01854797-a93a-4813-b6fb-8e66733b2fec",
   "metadata": {},
   "outputs": [
    {
     "data": {
      "image/png": "[encoded data removed]",
      "text/plain": [
       "<Figure size 720x504 with 2 Axes>"
      ]
     },
     "metadata": {
      "needs_background": "light"
     },
     "output_type": "display_data"
    }
   ],
   "source": [
    "# Do we need the number of children and family members?\n",
    "# Plotting a corelation matrix for the family and children columns \n",
    "Fam = df[[\"CNT_FAM_MEMBERS\",\"CNT_CHILDREN\"]]\n",
    "sns.heatmap(Fam.corr(), vmin=-1, cmap='coolwarm', annot=True)\n",
    "plt.show();"
   ]
  },
  {
   "cell_type": "code",
   "execution_count": 11,
   "id": "dfe657d2-747a-4866-83f2-83b8398545a4",
   "metadata": {},
   "outputs": [],
   "source": [
    "# We see significant corelation that warrents column removal, so we will drop the count of family members column.\n",
    "df.drop([\"CNT_FAM_MEMBERS\"],axis=1,inplace=True)"
   ]
  },
  {
   "cell_type": "markdown",
   "id": "950bd953-5535-4d1b-91be-617602dbd1d5",
   "metadata": {},
   "source": [
    "### Outlier Identification and Removal and Feature Correction"
   ]
  },
  {
   "cell_type": "code",
   "execution_count": 12,
   "id": "615326e1-a909-434e-88dd-9b3841999a20",
   "metadata": {},
   "outputs": [
    {
     "data": {
      "text/html": [
       "<div>\n",
       "<style scoped>\n",
       "    .dataframe tbody tr th:only-of-type {\n",
       "        vertical-align: middle;\n",
       "    }\n",
       "\n",
       "    .dataframe tbody tr th {\n",
       "        vertical-align: top;\n",
       "    }\n",
       "\n",
       "    .dataframe thead th {\n",
       "        text-align: right;\n",
       "    }\n",
       "</style>\n",
       "<table border=\"1\" class=\"dataframe\">\n",
       "  <thead>\n",
       "    <tr style=\"text-align: right;\">\n",
       "      <th></th>\n",
       "      <th>TARGET</th>\n",
       "      <th>CNT_CHILDREN</th>\n",
       "      <th>AMT_INCOME_TOTAL</th>\n",
       "      <th>AMT_CREDIT</th>\n",
       "      <th>AMT_ANNUITY</th>\n",
       "      <th>AMT_GOODS_PRICE</th>\n",
       "      <th>REGION_POPULATION_RELATIVE</th>\n",
       "      <th>DAYS_BIRTH</th>\n",
       "      <th>DAYS_EMPLOYED</th>\n",
       "      <th>REGION_RATING_CLIENT</th>\n",
       "      <th>REGION_RATING_CLIENT_W_CITY</th>\n",
       "      <th>REG_REGION_NOT_LIVE_REGION</th>\n",
       "      <th>REG_CITY_NOT_LIVE_CITY</th>\n",
       "      <th>OBS_30_CNT_SOCIAL_CIRCLE</th>\n",
       "      <th>DEF_30_CNT_SOCIAL_CIRCLE</th>\n",
       "      <th>DAYS_LAST_PHONE_CHANGE</th>\n",
       "      <th>AMT_REQ_CREDIT_BUREAU_HOUR</th>\n",
       "      <th>AMT_REQ_CREDIT_BUREAU_WEEK</th>\n",
       "      <th>AMT_REQ_CREDIT_BUREAU_MON</th>\n",
       "      <th>AMT_REQ_CREDIT_BUREAU_YEAR</th>\n",
       "    </tr>\n",
       "  </thead>\n",
       "  <tbody>\n",
       "    <tr>\n",
       "      <th>count</th>\n",
       "      <td>307511.000000</td>\n",
       "      <td>307511.000000</td>\n",
       "      <td>3.075110e+05</td>\n",
       "      <td>3.075110e+05</td>\n",
       "      <td>307499.000000</td>\n",
       "      <td>3.072330e+05</td>\n",
       "      <td>307511.000000</td>\n",
       "      <td>307511.000000</td>\n",
       "      <td>307511.000000</td>\n",
       "      <td>307511.000000</td>\n",
       "      <td>307511.000000</td>\n",
       "      <td>307511.000000</td>\n",
       "      <td>307511.000000</td>\n",
       "      <td>306490.000000</td>\n",
       "      <td>306490.000000</td>\n",
       "      <td>307510.000000</td>\n",
       "      <td>265992.000000</td>\n",
       "      <td>265992.000000</td>\n",
       "      <td>265992.000000</td>\n",
       "      <td>265992.000000</td>\n",
       "    </tr>\n",
       "    <tr>\n",
       "      <th>mean</th>\n",
       "      <td>0.080729</td>\n",
       "      <td>0.417052</td>\n",
       "      <td>1.687979e+05</td>\n",
       "      <td>5.990260e+05</td>\n",
       "      <td>27108.573909</td>\n",
       "      <td>5.383962e+05</td>\n",
       "      <td>0.020868</td>\n",
       "      <td>-16036.995067</td>\n",
       "      <td>63815.045904</td>\n",
       "      <td>2.052463</td>\n",
       "      <td>2.031521</td>\n",
       "      <td>0.015144</td>\n",
       "      <td>0.078173</td>\n",
       "      <td>1.422245</td>\n",
       "      <td>0.143421</td>\n",
       "      <td>-962.858788</td>\n",
       "      <td>0.006402</td>\n",
       "      <td>0.034362</td>\n",
       "      <td>0.267395</td>\n",
       "      <td>1.899974</td>\n",
       "    </tr>\n",
       "    <tr>\n",
       "      <th>std</th>\n",
       "      <td>0.272419</td>\n",
       "      <td>0.722121</td>\n",
       "      <td>2.371231e+05</td>\n",
       "      <td>4.024908e+05</td>\n",
       "      <td>14493.737315</td>\n",
       "      <td>3.694465e+05</td>\n",
       "      <td>0.013831</td>\n",
       "      <td>4363.988632</td>\n",
       "      <td>141275.766519</td>\n",
       "      <td>0.509034</td>\n",
       "      <td>0.502737</td>\n",
       "      <td>0.122126</td>\n",
       "      <td>0.268444</td>\n",
       "      <td>2.400989</td>\n",
       "      <td>0.446698</td>\n",
       "      <td>826.808487</td>\n",
       "      <td>0.083849</td>\n",
       "      <td>0.204685</td>\n",
       "      <td>0.916002</td>\n",
       "      <td>1.869295</td>\n",
       "    </tr>\n",
       "    <tr>\n",
       "      <th>min</th>\n",
       "      <td>0.000000</td>\n",
       "      <td>0.000000</td>\n",
       "      <td>2.565000e+04</td>\n",
       "      <td>4.500000e+04</td>\n",
       "      <td>1615.500000</td>\n",
       "      <td>4.050000e+04</td>\n",
       "      <td>0.000290</td>\n",
       "      <td>-25229.000000</td>\n",
       "      <td>-17912.000000</td>\n",
       "      <td>1.000000</td>\n",
       "      <td>1.000000</td>\n",
       "      <td>0.000000</td>\n",
       "      <td>0.000000</td>\n",
       "      <td>0.000000</td>\n",
       "      <td>0.000000</td>\n",
       "      <td>-4292.000000</td>\n",
       "      <td>0.000000</td>\n",
       "      <td>0.000000</td>\n",
       "      <td>0.000000</td>\n",
       "      <td>0.000000</td>\n",
       "    </tr>\n",
       "    <tr>\n",
       "      <th>25%</th>\n",
       "      <td>0.000000</td>\n",
       "      <td>0.000000</td>\n",
       "      <td>1.125000e+05</td>\n",
       "      <td>2.700000e+05</td>\n",
       "      <td>16524.000000</td>\n",
       "      <td>2.385000e+05</td>\n",
       "      <td>0.010006</td>\n",
       "      <td>-19682.000000</td>\n",
       "      <td>-2760.000000</td>\n",
       "      <td>2.000000</td>\n",
       "      <td>2.000000</td>\n",
       "      <td>0.000000</td>\n",
       "      <td>0.000000</td>\n",
       "      <td>0.000000</td>\n",
       "      <td>0.000000</td>\n",
       "      <td>-1570.000000</td>\n",
       "      <td>0.000000</td>\n",
       "      <td>0.000000</td>\n",
       "      <td>0.000000</td>\n",
       "      <td>0.000000</td>\n",
       "    </tr>\n",
       "    <tr>\n",
       "      <th>50%</th>\n",
       "      <td>0.000000</td>\n",
       "      <td>0.000000</td>\n",
       "      <td>1.471500e+05</td>\n",
       "      <td>5.135310e+05</td>\n",
       "      <td>24903.000000</td>\n",
       "      <td>4.500000e+05</td>\n",
       "      <td>0.018850</td>\n",
       "      <td>-15750.000000</td>\n",
       "      <td>-1213.000000</td>\n",
       "      <td>2.000000</td>\n",
       "      <td>2.000000</td>\n",
       "      <td>0.000000</td>\n",
       "      <td>0.000000</td>\n",
       "      <td>0.000000</td>\n",
       "      <td>0.000000</td>\n",
       "      <td>-757.000000</td>\n",
       "      <td>0.000000</td>\n",
       "      <td>0.000000</td>\n",
       "      <td>0.000000</td>\n",
       "      <td>1.000000</td>\n",
       "    </tr>\n",
       "    <tr>\n",
       "      <th>75%</th>\n",
       "      <td>0.000000</td>\n",
       "      <td>1.000000</td>\n",
       "      <td>2.025000e+05</td>\n",
       "      <td>8.086500e+05</td>\n",
       "      <td>34596.000000</td>\n",
       "      <td>6.795000e+05</td>\n",
       "      <td>0.028663</td>\n",
       "      <td>-12413.000000</td>\n",
       "      <td>-289.000000</td>\n",
       "      <td>2.000000</td>\n",
       "      <td>2.000000</td>\n",
       "      <td>0.000000</td>\n",
       "      <td>0.000000</td>\n",
       "      <td>2.000000</td>\n",
       "      <td>0.000000</td>\n",
       "      <td>-274.000000</td>\n",
       "      <td>0.000000</td>\n",
       "      <td>0.000000</td>\n",
       "      <td>0.000000</td>\n",
       "      <td>3.000000</td>\n",
       "    </tr>\n",
       "    <tr>\n",
       "      <th>max</th>\n",
       "      <td>1.000000</td>\n",
       "      <td>19.000000</td>\n",
       "      <td>1.170000e+08</td>\n",
       "      <td>4.050000e+06</td>\n",
       "      <td>258025.500000</td>\n",
       "      <td>4.050000e+06</td>\n",
       "      <td>0.072508</td>\n",
       "      <td>-7489.000000</td>\n",
       "      <td>365243.000000</td>\n",
       "      <td>3.000000</td>\n",
       "      <td>3.000000</td>\n",
       "      <td>1.000000</td>\n",
       "      <td>1.000000</td>\n",
       "      <td>348.000000</td>\n",
       "      <td>34.000000</td>\n",
       "      <td>0.000000</td>\n",
       "      <td>4.000000</td>\n",
       "      <td>8.000000</td>\n",
       "      <td>27.000000</td>\n",
       "      <td>25.000000</td>\n",
       "    </tr>\n",
       "  </tbody>\n",
       "</table>\n",
       "</div>"
      ],
      "text/plain": [
       "              TARGET   CNT_CHILDREN  AMT_INCOME_TOTAL    AMT_CREDIT  \\\n",
       "count  307511.000000  307511.000000      3.075110e+05  3.075110e+05   \n",
       "mean        0.080729       0.417052      1.687979e+05  5.990260e+05   \n",
       "std         0.272419       0.722121      2.371231e+05  4.024908e+05   \n",
       "min         0.000000       0.000000      2.565000e+04  4.500000e+04   \n",
       "25%         0.000000       0.000000      1.125000e+05  2.700000e+05   \n",
       "50%         0.000000       0.000000      1.471500e+05  5.135310e+05   \n",
       "75%         0.000000       1.000000      2.025000e+05  8.086500e+05   \n",
       "max         1.000000      19.000000      1.170000e+08  4.050000e+06   \n",
       "\n",
       "         AMT_ANNUITY  AMT_GOODS_PRICE  REGION_POPULATION_RELATIVE  \\\n",
       "count  307499.000000     3.072330e+05               307511.000000   \n",
       "mean    27108.573909     5.383962e+05                    0.020868   \n",
       "std     14493.737315     3.694465e+05                    0.013831   \n",
       "min      1615.500000     4.050000e+04                    0.000290   \n",
       "25%     16524.000000     2.385000e+05                    0.010006   \n",
       "50%     24903.000000     4.500000e+05                    0.018850   \n",
       "75%     34596.000000     6.795000e+05                    0.028663   \n",
       "max    258025.500000     4.050000e+06                    0.072508   \n",
       "\n",
       "          DAYS_BIRTH  DAYS_EMPLOYED  REGION_RATING_CLIENT  \\\n",
       "count  307511.000000  307511.000000         307511.000000   \n",
       "mean   -16036.995067   63815.045904              2.052463   \n",
       "std      4363.988632  141275.766519              0.509034   \n",
       "min    -25229.000000  -17912.000000              1.000000   \n",
       "25%    -19682.000000   -2760.000000              2.000000   \n",
       "50%    -15750.000000   -1213.000000              2.000000   \n",
       "75%    -12413.000000    -289.000000              2.000000   \n",
       "max     -7489.000000  365243.000000              3.000000   \n",
       "\n",
       "       REGION_RATING_CLIENT_W_CITY  REG_REGION_NOT_LIVE_REGION  \\\n",
       "count                307511.000000               307511.000000   \n",
       "mean                      2.031521                    0.015144   \n",
       "std                       0.502737                    0.122126   \n",
       "min                       1.000000                    0.000000   \n",
       "25%                       2.000000                    0.000000   \n",
       "50%                       2.000000                    0.000000   \n",
       "75%                       2.000000                    0.000000   \n",
       "max                       3.000000                    1.000000   \n",
       "\n",
       "       REG_CITY_NOT_LIVE_CITY  OBS_30_CNT_SOCIAL_CIRCLE  \\\n",
       "count           307511.000000             306490.000000   \n",
       "mean                 0.078173                  1.422245   \n",
       "std                  0.268444                  2.400989   \n",
       "min                  0.000000                  0.000000   \n",
       "25%                  0.000000                  0.000000   \n",
       "50%                  0.000000                  0.000000   \n",
       "75%                  0.000000                  2.000000   \n",
       "max                  1.000000                348.000000   \n",
       "\n",
       "       DEF_30_CNT_SOCIAL_CIRCLE  DAYS_LAST_PHONE_CHANGE  \\\n",
       "count             306490.000000           307510.000000   \n",
       "mean                   0.143421             -962.858788   \n",
       "std                    0.446698              826.808487   \n",
       "min                    0.000000            -4292.000000   \n",
       "25%                    0.000000            -1570.000000   \n",
       "50%                    0.000000             -757.000000   \n",
       "75%                    0.000000             -274.000000   \n",
       "max                   34.000000                0.000000   \n",
       "\n",
       "       AMT_REQ_CREDIT_BUREAU_HOUR  AMT_REQ_CREDIT_BUREAU_WEEK  \\\n",
       "count               265992.000000               265992.000000   \n",
       "mean                     0.006402                    0.034362   \n",
       "std                      0.083849                    0.204685   \n",
       "min                      0.000000                    0.000000   \n",
       "25%                      0.000000                    0.000000   \n",
       "50%                      0.000000                    0.000000   \n",
       "75%                      0.000000                    0.000000   \n",
       "max                      4.000000                    8.000000   \n",
       "\n",
       "       AMT_REQ_CREDIT_BUREAU_MON  AMT_REQ_CREDIT_BUREAU_YEAR  \n",
       "count              265992.000000               265992.000000  \n",
       "mean                    0.267395                    1.899974  \n",
       "std                     0.916002                    1.869295  \n",
       "min                     0.000000                    0.000000  \n",
       "25%                     0.000000                    0.000000  \n",
       "50%                     0.000000                    1.000000  \n",
       "75%                     0.000000                    3.000000  \n",
       "max                    27.000000                   25.000000  "
      ]
     },
     "execution_count": 12,
     "metadata": {},
     "output_type": "execute_result"
    }
   ],
   "source": [
    "# Lets see some of the statistical measures of the data and get a sense for the distribution and if there are outliers\n",
    "pd.set_option('display.max_columns', None)\n",
    "df.describe()\n",
    "pd.reset_option(\"max_columns\")"
   ]
  },
  {
   "cell_type": "code",
   "execution_count": 13,
   "id": "d9f363c3-2a2f-4973-b426-6e311f02d213",
   "metadata": {},
   "outputs": [
    {
     "data": {
      "text/plain": [
       "0     215371\n",
       "1      61119\n",
       "2      26749\n",
       "3       3717\n",
       "4        429\n",
       "5         84\n",
       "6         21\n",
       "7          7\n",
       "14         3\n",
       "8          2\n",
       "9          2\n",
       "10         2\n",
       "12         2\n",
       "19         2\n",
       "11         1\n",
       "Name: CNT_CHILDREN, dtype: int64"
      ]
     },
     "execution_count": 13,
     "metadata": {},
     "output_type": "execute_result"
    },
    {
     "name": "stdout",
     "output_type": "stream",
     "text": [
      "After removing the children count outliers:\n"
     ]
    },
    {
     "data": {
      "text/plain": [
       "0    215371\n",
       "1     61119\n",
       "2     26749\n",
       "3      3717\n",
       "4       429\n",
       "5        84\n",
       "6        21\n",
       "7         7\n",
       "8         2\n",
       "9         2\n",
       "Name: CNT_CHILDREN, dtype: int64"
      ]
     },
     "execution_count": 13,
     "metadata": {},
     "output_type": "execute_result"
    }
   ],
   "source": [
    "#Exploring the children column\n",
    "df.CNT_CHILDREN.value_counts()\n",
    "# While it is definately possible to have 19 children, we will use domain knowledge and remove values of over 10 children\n",
    "df.drop(df.CNT_CHILDREN[df.CNT_CHILDREN>=10].index,inplace=True,axis=0)\n",
    "# After removing the outliers\n",
    "print(\"After removing the children count outliers:\")\n",
    "df.CNT_CHILDREN.value_counts()"
   ]
  },
  {
   "cell_type": "code",
   "execution_count": 14,
   "id": "bf2f5994-e276-471b-9151-a67efb5a69c9",
   "metadata": {},
   "outputs": [
    {
     "name": "stdout",
     "output_type": "stream",
     "text": [
      "We reject 454 points\n",
      "A z-score of 3 corresponds to a prob of 0.27%\n",
      "Skewness before: 391.557070\n",
      "Kurtosis before: 191782.788849\n"
     ]
    },
    {
     "data": {
      "image/png": "[encoded data removed]",
      "text/plain": [
       "<Figure size 720x504 with 1 Axes>"
      ]
     },
     "metadata": {
      "needs_background": "light"
     },
     "output_type": "display_data"
    }
   ],
   "source": [
    "# We will now explore the income column and remove outliers\n",
    "# Calculating mean and std for the income column\n",
    "mean, std = np.mean(df.AMT_INCOME_TOTAL), np.std(df.AMT_INCOME_TOTAL)\n",
    "# Calculating the z-score for each data point (how far in STDs is each data point from the mean).\n",
    "z_score = np.abs((df.AMT_INCOME_TOTAL - mean) / std)\n",
    "# Our threshold for how many STDs from the mean we keep\n",
    "threshold = 3\n",
    "keep = z_score < threshold\n",
    "# How many data points are we rejecting\n",
    "print(f\"We reject {(~keep).sum()} points\")\n",
    "# Calc the probability corresponding to the selected z-score threshold\n",
    "from scipy.stats import norm\n",
    "print(f\"A z-score of 3 corresponds to a prob of {100 * 2 * norm.sf(threshold):0.2f}%\")\n",
    "# Visualize the outliers\n",
    "visual_scatter = np.random.normal(size=df.AMT_INCOME_TOTAL.size)\n",
    "plt.scatter(visual_scatter[keep], df.AMT_INCOME_TOTAL[keep], s=2, label=\"Keep\", color=\"#4CAF50\")\n",
    "plt.scatter(visual_scatter[~keep],df.AMT_INCOME_TOTAL[~keep], s=10, label=\"Reject\", color=\"#F44336\")\n",
    "plt.legend()\n",
    "# Print skewness and kurtosis\n",
    "print(f\"Skewness before: %f\" % df.AMT_INCOME_TOTAL.skew())\n",
    "print(f\"Kurtosis before: %f\" % df.AMT_INCOME_TOTAL.kurt())\n",
    "# We will now drop the selected rejected  data points\n",
    "df.drop(df.AMT_INCOME_TOTAL[~keep].index,inplace=True, axis=0)\n",
    "plt.show();"
   ]
  },
  {
   "cell_type": "code",
   "execution_count": 15,
   "id": "5b745d47-b826-4e72-b2d9-ab1a63234642",
   "metadata": {},
   "outputs": [
    {
     "name": "stdout",
     "output_type": "stream",
     "text": [
      "We reject 294 points\n",
      "A z-score of 6 corresponds to a prob of 0.000%\n",
      "Skewness after: 1.717716\n",
      "Kurtosis after: 4.870102\n"
     ]
    },
    {
     "data": {
      "image/png": "[encoded data removed]",
      "text/plain": [
       "<Figure size 720x504 with 1 Axes>"
      ]
     },
     "metadata": {
      "needs_background": "light"
     },
     "output_type": "display_data"
    }
   ],
   "source": [
    "# Calculating mean and std for the income column\n",
    "mean, std = np.mean(df.AMT_INCOME_TOTAL), np.std(df.AMT_INCOME_TOTAL)\n",
    "# Calculating the z-score for each data point (how far in STD is each data point from the mean).\n",
    "z_score = np.abs((df.AMT_INCOME_TOTAL - mean) / std)\n",
    "# Our threshold for how many STDs from the mean we keep\n",
    "threshold = 6\n",
    "keep = z_score < threshold\n",
    "# How many data points are we rejecting\n",
    "print(f\"We reject {(~keep).sum()} points\")\n",
    "# Calculating the probability corresponding to the selected z-score threshold\n",
    "from scipy.stats import norm\n",
    "print(f\"A z-score of 6 corresponds to a prob of {100 * 2 * norm.sf(threshold):0.3f}%\")\n",
    "# Visualizing the outliers\n",
    "visual_scatter = np.random.normal(size=df.AMT_INCOME_TOTAL.size)\n",
    "plt.scatter(visual_scatter[keep], df.AMT_INCOME_TOTAL[keep], s=2, label=\"Keep\", color=\"#4CAF50\")\n",
    "plt.scatter(visual_scatter[~keep],df.AMT_INCOME_TOTAL[~keep], s=10, label=\"Reject\", color=\"#F44336\")\n",
    "plt.legend()\n",
    "# We will now drop the selected rejected  data points\n",
    "df.drop(df.AMT_INCOME_TOTAL[~keep].index,inplace=True, axis=0)\n",
    "# Print skewness and kurtosis after cleaning\n",
    "print(f\"Skewness after: %f\" % df.AMT_INCOME_TOTAL.skew())\n",
    "print(f\"Kurtosis after: %f\" % df.AMT_INCOME_TOTAL.kurt())\n",
    "# We will not drop anymore values since this will cause significant dataset reduction\n",
    "# People with very high anual incomes are less likely to default on a loan and may skew the model \n",
    "plt.show();"
   ]
  },
  {
   "cell_type": "code",
   "execution_count": 16,
   "id": "53fe4019-980e-4fb6-bcd2-e5bdf94293dc",
   "metadata": {},
   "outputs": [
    {
     "data": {
      "text/plain": [
       "0"
      ]
     },
     "execution_count": 16,
     "metadata": {},
     "output_type": "execute_result"
    },
    {
     "data": {
      "text/plain": [
       "0         25.920548\n",
       "1         45.931507\n",
       "2         52.180822\n",
       "3         52.068493\n",
       "4         54.608219\n",
       "            ...    \n",
       "307506    25.553425\n",
       "307507    56.917808\n",
       "307508    41.002740\n",
       "307509    32.769863\n",
       "307510    46.180822\n",
       "Name: AGE, Length: 306753, dtype: float64"
      ]
     },
     "execution_count": 16,
     "metadata": {},
     "output_type": "execute_result"
    }
   ],
   "source": [
    "# Reengineer the DAYS_BIRTH column to show age of client in years.\n",
    "df.DAYS_BIRTH = df.DAYS_BIRTH / -365\n",
    "df.rename(columns={\"DAYS_BIRTH\":\"AGE\"},inplace=True)\n",
    "# Makeing sure no values were corrupted.\n",
    "len(df.AGE[df.AGE < 0])\n",
    "df.AGE"
   ]
  },
  {
   "cell_type": "code",
   "execution_count": 17,
   "id": "7fc4a1bb-5c99-4424-b7a2-fdcc6eb6311f",
   "metadata": {},
   "outputs": [
    {
     "data": {
      "text/plain": [
       "55337"
      ]
     },
     "execution_count": 17,
     "metadata": {},
     "output_type": "execute_result"
    },
    {
     "data": {
      "text/plain": [
       "0            1.745205\n",
       "1            3.254795\n",
       "2            0.616438\n",
       "3            8.326027\n",
       "4            8.323288\n",
       "             ...     \n",
       "307506       0.646575\n",
       "307507    1000.665753\n",
       "307508      21.701370\n",
       "307509      13.112329\n",
       "307510       3.457534\n",
       "Name: YEARS_EMPLOYED, Length: 306753, dtype: float64"
      ]
     },
     "execution_count": 17,
     "metadata": {},
     "output_type": "execute_result"
    }
   ],
   "source": [
    "# Reengineer the DAYS_EMPLOYED column to show clients employment period in years.\n",
    "df.DAYS_EMPLOYED = (np.abs(df.DAYS_EMPLOYED) / 365)\n",
    "df.rename(columns={\"DAYS_EMPLOYED\":\"YEARS_EMPLOYED\"},inplace=True)\n",
    "# Lets explore outliers and see how many rows are over 60 years of employment.\n",
    "len(df.YEARS_EMPLOYED[df.YEARS_EMPLOYED > 60])\n",
    "df.YEARS_EMPLOYED"
   ]
  },
  {
   "cell_type": "code",
   "execution_count": 18,
   "id": "7d8a328a-3f8d-4da4-bc6f-c7edfc639148",
   "metadata": {},
   "outputs": [
    {
     "data": {
      "image/png": "[encoded data removed]",
      "text/plain": [
       "<Figure size 720x504 with 1 Axes>"
      ]
     },
     "metadata": {
      "needs_background": "light"
     },
     "output_type": "display_data"
    }
   ],
   "source": [
    "# We see thusands of rows with the employment period of 1000.665 years. Lets replace those with the median.\n",
    "df.YEARS_EMPLOYED.loc[df.YEARS_EMPLOYED[df.YEARS_EMPLOYED > 1000].index] = df.YEARS_EMPLOYED.median()\n",
    "# Plotting the distribution of the employment period column\n",
    "plt.hist(df.YEARS_EMPLOYED)\n",
    "plt.axvline(x=25,  linewidth=2, color='red')\n",
    "# We will clean by inspection and remove data points of over 25 years employed\n",
    "df.drop(df.YEARS_EMPLOYED[df.YEARS_EMPLOYED > 25].index,inplace=True, axis=0)\n",
    "plt.show();"
   ]
  },
  {
   "cell_type": "code",
   "execution_count": 19,
   "id": "9d44a89c-3fc8-40c0-960d-a29160e199f4",
   "metadata": {},
   "outputs": [
    {
     "name": "stdout",
     "output_type": "stream",
     "text": [
      "We reject 1835 points\n",
      "A z-score of 7 corresponds to a prob of 0.0000573%\n",
      "Skewness before: 12.334634\n",
      "Kurtosis before: 1452.753848\n"
     ]
    },
    {
     "data": {
      "image/png": "[encoded data removed]",
      "text/plain": [
       "<Figure size 720x504 with 1 Axes>"
      ]
     },
     "metadata": {
      "needs_background": "light"
     },
     "output_type": "display_data"
    }
   ],
   "source": [
    "# Calculating mean and std for the SOCIAL_CIRCLE column\n",
    "mean, std = np.mean(df.OBS_30_CNT_SOCIAL_CIRCLE), np.std(df.OBS_30_CNT_SOCIAL_CIRCLE)\n",
    "# Calculating the z-score for each data point (how far in STD is each data point from the mean).\n",
    "z_score = np.abs((df.OBS_30_CNT_SOCIAL_CIRCLE - mean) / std)\n",
    "# Our threshold for how many STDs from the mean we keep\n",
    "threshold = 5\n",
    "keep = z_score < threshold\n",
    "# How many data points are we rejecting\n",
    "print(f\"We reject {(~keep).sum()} points\")\n",
    "# Calc the probability corresponding to the selected z-score threshold\n",
    "from scipy.stats import norm\n",
    "print(f\"A z-score of 7 corresponds to a prob of {100 * 2 * norm.sf(threshold):0.7f}%\")\n",
    "# Visualize the outliers\n",
    "visual_scatter = np.random.normal(size=df.OBS_30_CNT_SOCIAL_CIRCLE.size)\n",
    "plt.scatter(visual_scatter[keep], df.OBS_30_CNT_SOCIAL_CIRCLE[keep], s=2, label=\"Keep\", color=\"#4CAF50\")\n",
    "plt.scatter(visual_scatter[~keep],df.OBS_30_CNT_SOCIAL_CIRCLE[~keep], s=10, label=\"Reject\", color=\"#F44336\")\n",
    "plt.legend()\n",
    "# Print skewness and kurtosis\n",
    "print(f\"Skewness before: %f\" % df.OBS_30_CNT_SOCIAL_CIRCLE.skew())\n",
    "print(f\"Kurtosis before: %f\" % df.OBS_30_CNT_SOCIAL_CIRCLE.kurt())\n",
    "# We will now drop the selected rejected  data points\n",
    "df.drop(df.OBS_30_CNT_SOCIAL_CIRCLE[~keep].index,inplace=True, axis=0)\n",
    "plt.show();"
   ]
  },
  {
   "cell_type": "code",
   "execution_count": 20,
   "id": "ffb64da8-d19b-48c3-846e-61bf14e87777",
   "metadata": {},
   "outputs": [
    {
     "name": "stdout",
     "output_type": "stream",
     "text": [
      "We reject 395 points\n",
      "A z-score of 5 corresponds to a prob of 0.000057%\n",
      "Skewness after (OBS): 2.042580\n",
      "Kurtosis after (OBS): 4.389330\n",
      "Skewness after (DEF): 3.829405\n",
      "Kurtosis after (DEF): 18.680353\n"
     ]
    },
    {
     "data": {
      "image/png": "[encoded data removed]",
      "text/plain": [
       "<Figure size 720x504 with 1 Axes>"
      ]
     },
     "metadata": {
      "needs_background": "light"
     },
     "output_type": "display_data"
    }
   ],
   "source": [
    "# Calculating mean and std for the SOCIAL_CIRCLE column\n",
    "mean, std = np.mean(df.OBS_30_CNT_SOCIAL_CIRCLE), np.std(df.OBS_30_CNT_SOCIAL_CIRCLE)\n",
    "# Calculating the z-score for each data point (how far in STD is each data point from the mean).\n",
    "z_score = np.abs((df.OBS_30_CNT_SOCIAL_CIRCLE - mean) / std)\n",
    "# Our threshold for how many STDs from the mean we keep\n",
    "threshold = 5\n",
    "keep = z_score < threshold\n",
    "# How many data points are we rejecting\n",
    "print(f\"We reject {(~keep).sum()} points\")\n",
    "# Calc the probability corresponding to the selected z-score threshold\n",
    "from scipy.stats import norm\n",
    "print(f\"A z-score of 5 corresponds to a prob of {100 * 2 * norm.sf(threshold):0.6f}%\")\n",
    "# Visualize the outliers\n",
    "visual_scatter = np.random.normal(size=df.OBS_30_CNT_SOCIAL_CIRCLE.size)\n",
    "plt.scatter(visual_scatter[keep], df.OBS_30_CNT_SOCIAL_CIRCLE[keep], s=2, label=\"Keep\", color=\"#4CAF50\")\n",
    "plt.scatter(visual_scatter[~keep],df.OBS_30_CNT_SOCIAL_CIRCLE[~keep], s=10, label=\"Reject\", color=\"#F44336\")\n",
    "plt.legend()\n",
    "# We will now drop the selected rejected  data points\n",
    "df.drop(df.OBS_30_CNT_SOCIAL_CIRCLE[~keep].index,inplace=True, axis=0)\n",
    "# Print skewness and kurtosis after cleaning. It is significantly better\n",
    "print(f\"Skewness after (OBS): %f\" % df.OBS_30_CNT_SOCIAL_CIRCLE.skew())\n",
    "print(f\"Kurtosis after (OBS): %f\" % df.OBS_30_CNT_SOCIAL_CIRCLE.kurt())\n",
    "print(f\"Skewness after (DEF): %f\" % df.DEF_30_CNT_SOCIAL_CIRCLE.skew())\n",
    "print(f\"Kurtosis after (DEF): %f\" % df.DEF_30_CNT_SOCIAL_CIRCLE.kurt())\n",
    "plt.show();"
   ]
  },
  {
   "cell_type": "code",
   "execution_count": 21,
   "id": "01195409-5bf8-4095-aed8-3c5a923019f1",
   "metadata": {},
   "outputs": [
    {
     "data": {
      "text/plain": [
       "0         1134.0\n",
       "1          828.0\n",
       "2          815.0\n",
       "3          617.0\n",
       "4         1106.0\n",
       "           ...  \n",
       "307506     273.0\n",
       "307507       0.0\n",
       "307508    1909.0\n",
       "307509     322.0\n",
       "307510     787.0\n",
       "Name: DAYS_LAST_PHONE_CHANGE, Length: 298220, dtype: float64"
      ]
     },
     "execution_count": 21,
     "metadata": {},
     "output_type": "execute_result"
    }
   ],
   "source": [
    "# Reengineer the DAYS_LAST_PHONE_CHANGE column to show in days.\n",
    "df.DAYS_LAST_PHONE_CHANGE = np.abs(df.DAYS_LAST_PHONE_CHANGE)\n",
    "df.DAYS_LAST_PHONE_CHANGE"
   ]
  },
  {
   "cell_type": "code",
   "execution_count": 22,
   "id": "dba026e7-5a71-4e91-842e-80a8dd94dd73",
   "metadata": {},
   "outputs": [
    {
     "data": {
      "text/plain": [
       "20119     225000.0\n",
       "20338     213291.0\n",
       "23582     225000.0\n",
       "32100     225000.0\n",
       "89256     206167.5\n",
       "111186    213160.5\n",
       "117546    208215.0\n",
       "132913    225000.0\n",
       "144204    225000.0\n",
       "145707    225000.0\n",
       "184287    225000.0\n",
       "203541    213291.0\n",
       "265026    225000.0\n",
       "268455    225000.0\n",
       "301712    216589.5\n",
       "Name: AMT_ANNUITY, dtype: float64"
      ]
     },
     "execution_count": 22,
     "metadata": {},
     "output_type": "execute_result"
    }
   ],
   "source": [
    "df.AMT_ANNUITY[df.AMT_ANNUITY >= 200000]"
   ]
  },
  {
   "cell_type": "code",
   "execution_count": 23,
   "id": "252e007a-3884-43f2-92a2-845b720f12e2",
   "metadata": {},
   "outputs": [
    {
     "data": {
      "image/png": "[encoded data removed]",
      "text/plain": [
       "<Figure size 720x504 with 1 Axes>"
      ]
     },
     "metadata": {
      "needs_background": "light"
     },
     "output_type": "display_data"
    }
   ],
   "source": [
    "# We will plot the Amount Annuity and Amount Goods Price on a scatter plot to look for outliers\n",
    "plt.scatter(df.AMT_ANNUITY,df.AMT_GOODS_PRICE)\n",
    "# We see outliers on the Annuity column so we will clean that\n",
    "plt.axvline(x=200000,  linewidth=2, color='red')\n",
    "df.drop(df.AMT_ANNUITY[df.AMT_ANNUITY >= 200000].index,inplace=True, axis=0)\n",
    "plt.show();"
   ]
  },
  {
   "cell_type": "code",
   "execution_count": 24,
   "id": "9cf54990-2efe-48e4-9dc0-d4aec250bc5c",
   "metadata": {},
   "outputs": [
    {
     "name": "stdout",
     "output_type": "stream",
     "text": [
      "Skewness Month: 7.811854\n",
      "Kurtosis Month: 90.832733\n",
      "Skewness Year: 1.242077\n",
      "Kurtosis Year: 1.969887\n",
      "Skewness Hour: 14.560654\n",
      "Kurtosis Hour: 255.707255\n",
      "Skewness Week: 9.316798\n",
      "Kurtosis Week: 167.999106\n"
     ]
    }
   ],
   "source": [
    "# Lets review the Credit Bureau columns for skewness and kurtosis\n",
    "print(f\"Skewness Month: %f\" % df.AMT_REQ_CREDIT_BUREAU_MON.skew())\n",
    "print(f\"Kurtosis Month: %f\" % df.AMT_REQ_CREDIT_BUREAU_MON.kurt())\n",
    "\n",
    "print(f\"Skewness Year: %f\" % df.AMT_REQ_CREDIT_BUREAU_YEAR.skew())\n",
    "print(f\"Kurtosis Year: %f\" % df.AMT_REQ_CREDIT_BUREAU_YEAR.kurt())\n",
    "\n",
    "print(f\"Skewness Hour: %f\" % df.AMT_REQ_CREDIT_BUREAU_HOUR.skew())\n",
    "print(f\"Kurtosis Hour: %f\" % df.AMT_REQ_CREDIT_BUREAU_HOUR.kurt())\n",
    "\n",
    "print(f\"Skewness Week: %f\" % df.AMT_REQ_CREDIT_BUREAU_WEEK.skew())\n",
    "print(f\"Kurtosis Week: %f\" % df.AMT_REQ_CREDIT_BUREAU_WEEK.kurt())\n",
    "# Could be worse, but lets try to clean the Hour, Week, and Month columns"
   ]
  },
  {
   "cell_type": "code",
   "execution_count": 25,
   "id": "5b8e26d6-e0ad-4db8-b7be-c4776f66ab20",
   "metadata": {},
   "outputs": [
    {
     "data": {
      "text/plain": [
       "0.0    256025\n",
       "1.0      1512\n",
       "2.0        56\n",
       "3.0         9\n",
       "4.0         1\n",
       "Name: AMT_REQ_CREDIT_BUREAU_HOUR, dtype: int64"
      ]
     },
     "execution_count": 25,
     "metadata": {},
     "output_type": "execute_result"
    },
    {
     "data": {
      "text/plain": [
       "0.0    249306\n",
       "1.0      7978\n",
       "2.0       195\n",
       "3.0        54\n",
       "4.0        34\n",
       "6.0        20\n",
       "5.0         9\n",
       "8.0         5\n",
       "7.0         2\n",
       "Name: AMT_REQ_CREDIT_BUREAU_WEEK, dtype: int64"
      ]
     },
     "execution_count": 25,
     "metadata": {},
     "output_type": "execute_result"
    },
    {
     "data": {
      "text/plain": [
       "0.0     215277\n",
       "1.0      32143\n",
       "2.0       5196\n",
       "3.0       1905\n",
       "4.0       1024\n",
       "5.0        571\n",
       "6.0        324\n",
       "7.0        284\n",
       "9.0        201\n",
       "8.0        180\n",
       "10.0       128\n",
       "11.0       115\n",
       "12.0        72\n",
       "13.0        65\n",
       "14.0        38\n",
       "15.0        34\n",
       "16.0        22\n",
       "17.0        12\n",
       "18.0         6\n",
       "19.0         2\n",
       "27.0         1\n",
       "22.0         1\n",
       "23.0         1\n",
       "24.0         1\n",
       "Name: AMT_REQ_CREDIT_BUREAU_MON, dtype: int64"
      ]
     },
     "execution_count": 25,
     "metadata": {},
     "output_type": "execute_result"
    }
   ],
   "source": [
    "# Cleaning the Bureau columns by inspection\n",
    "df.AMT_REQ_CREDIT_BUREAU_HOUR.value_counts()\n",
    "df.AMT_REQ_CREDIT_BUREAU_WEEK.value_counts()\n",
    "df.AMT_REQ_CREDIT_BUREAU_MON.value_counts()\n",
    "\n",
    "df.drop(df.AMT_REQ_CREDIT_BUREAU_HOUR[df.AMT_REQ_CREDIT_BUREAU_HOUR >=2].index,inplace=True, axis=0)\n",
    "df.drop(df.AMT_REQ_CREDIT_BUREAU_WEEK[df.AMT_REQ_CREDIT_BUREAU_WEEK >=4].index,inplace=True, axis=0)\n",
    "df.drop(df.AMT_REQ_CREDIT_BUREAU_MON[df.AMT_REQ_CREDIT_BUREAU_MON >=14].index,inplace=True, axis=0)"
   ]
  },
  {
   "cell_type": "code",
   "execution_count": 26,
   "id": "6900853c-9bb5-4f03-a84f-cf089cee8e91",
   "metadata": {},
   "outputs": [
    {
     "name": "stdout",
     "output_type": "stream",
     "text": [
      "Skewness Month: 6.816562\n",
      "Kurtosis Month: 66.090643\n",
      "Skewness Hour: 12.939770\n",
      "Kurtosis Hour: 165.438941\n",
      "Skewness Week: 6.040049\n",
      "Kurtosis Week: 42.146439\n"
     ]
    }
   ],
   "source": [
    "# Lets review the Credit Bureau columns for skewness and kurtosis after our data cleaning\n",
    "print(f\"Skewness Month: %f\" % df.AMT_REQ_CREDIT_BUREAU_MON.skew())\n",
    "print(f\"Kurtosis Month: %f\" % df.AMT_REQ_CREDIT_BUREAU_MON.kurt())\n",
    "\n",
    "print(f\"Skewness Hour: %f\" % df.AMT_REQ_CREDIT_BUREAU_HOUR.skew())\n",
    "print(f\"Kurtosis Hour: %f\" % df.AMT_REQ_CREDIT_BUREAU_HOUR.kurt())\n",
    "\n",
    "print(f\"Skewness Week: %f\" % df.AMT_REQ_CREDIT_BUREAU_WEEK.skew())\n",
    "print(f\"Kurtosis Week: %f\" % df.AMT_REQ_CREDIT_BUREAU_WEEK.kurt())\n",
    "# Alright, that is a bit better. Its all about the comprise to maintain dataset size"
   ]
  },
  {
   "cell_type": "code",
   "execution_count": 27,
   "id": "18d3dc7f-1829-4ae4-9ae9-dfdda4eadb7c",
   "metadata": {},
   "outputs": [
    {
     "data": {
      "text/plain": [
       "F      195413\n",
       "M      102535\n",
       "XNA         3\n",
       "Name: CODE_GENDER, dtype: int64"
      ]
     },
     "execution_count": 27,
     "metadata": {},
     "output_type": "execute_result"
    },
    {
     "data": {
      "text/plain": [
       "1    195416\n",
       "0    102535\n",
       "Name: CODE_GENDER, dtype: int64"
      ]
     },
     "execution_count": 27,
     "metadata": {},
     "output_type": "execute_result"
    },
    {
     "name": "stdout",
     "output_type": "stream",
     "text": [
      "The Gender column Dtype is: int64\n"
     ]
    }
   ],
   "source": [
    "# Reengineer the gender column\n",
    "df.CODE_GENDER.value_counts()\n",
    "# Replace the null values with the mode\n",
    "df.CODE_GENDER[df.CODE_GENDER == \"XNA\"] = \"F\"\n",
    "# Converting F and M to 0 and 1\n",
    "df.CODE_GENDER.replace({\"M\": \"0\", \"F\": \"1\"}, inplace=True)\n",
    "# Convert numeric columns to the appropriate Dtype\n",
    "df.CODE_GENDER = df.CODE_GENDER.apply(pd.to_numeric, errors='ignore')\n",
    "# Confirming the changes\n",
    "df.CODE_GENDER.value_counts()\n",
    "print(f\"The Gender column Dtype is: {df.CODE_GENDER.dtypes}\")"
   ]
  },
  {
   "cell_type": "code",
   "execution_count": 28,
   "id": "c52c9ca5-5c2f-44f8-8b7c-561727c660c0",
   "metadata": {},
   "outputs": [
    {
     "data": {
      "text/plain": [
       "0    196312\n",
       "1    101639\n",
       "Name: FLAG_OWN_REALTY, dtype: int64"
      ]
     },
     "execution_count": 28,
     "metadata": {},
     "output_type": "execute_result"
    },
    {
     "data": {
      "text/plain": [
       "0    196312\n",
       "1    101639\n",
       "Name: FLAG_OWN_CAR, dtype: int64"
      ]
     },
     "execution_count": 28,
     "metadata": {},
     "output_type": "execute_result"
    },
    {
     "data": {
      "text/plain": [
       "0    196312\n",
       "1    101639\n",
       "Name: NAME_CONTRACT_TYPE, dtype: int64"
      ]
     },
     "execution_count": 28,
     "metadata": {},
     "output_type": "execute_result"
    },
    {
     "name": "stdout",
     "output_type": "stream",
     "text": [
      "The Own Realty column Dtype is: int64\n",
      "The Own Car column Dtype is: int64\n",
      "The Contract Type column Dtype is: int64\n"
     ]
    }
   ],
   "source": [
    "# Reenginner and convert binary strings in Own Real Estate, Contract Type, and Car to binary integers of 0 and 1\n",
    "df.FLAG_OWN_CAR.replace({\"N\": 0, \"Y\": 1}, inplace=True)\n",
    "df.FLAG_OWN_REALTY.replace({\"N\": 0, \"Y\": 1}, inplace=True)\n",
    "df.NAME_CONTRACT_TYPE.replace({\"Cash loans\":0,\"Revolving loans\":1},inplace=True)\n",
    "# Convert numeric columns to the appropriate Dtype\n",
    "df.FLAG_OWN_REALTY = df.FLAG_OWN_CAR.apply(pd.to_numeric, errors='ignore')\n",
    "df.FLAG_OWN_CAR = df.FLAG_OWN_REALTY.apply(pd.to_numeric, errors='ignore')\n",
    "df.NAME_CONTRACT_TYPE = df.FLAG_OWN_REALTY.apply(pd.to_numeric, errors='ignore')\n",
    "# Confirming changes\n",
    "df.FLAG_OWN_REALTY.value_counts()\n",
    "df.FLAG_OWN_CAR.value_counts()\n",
    "df.NAME_CONTRACT_TYPE.value_counts()\n",
    "print(f\"The Own Realty column Dtype is: {df.FLAG_OWN_REALTY.dtypes}\")\n",
    "print(f\"The Own Car column Dtype is: {df.FLAG_OWN_CAR.dtypes}\")\n",
    "print(f\"The Contract Type column Dtype is: {df.NAME_CONTRACT_TYPE.dtypes}\")"
   ]
  },
  {
   "cell_type": "code",
   "execution_count": 29,
   "id": "13ba4774-58c4-4bee-ba9c-d7de1c8df52a",
   "metadata": {},
   "outputs": [
    {
     "data": {
      "text/html": [
       "<div>\n",
       "<style scoped>\n",
       "    .dataframe tbody tr th:only-of-type {\n",
       "        vertical-align: middle;\n",
       "    }\n",
       "\n",
       "    .dataframe tbody tr th {\n",
       "        vertical-align: top;\n",
       "    }\n",
       "\n",
       "    .dataframe thead th {\n",
       "        text-align: right;\n",
       "    }\n",
       "</style>\n",
       "<table border=\"1\" class=\"dataframe\">\n",
       "  <thead>\n",
       "    <tr style=\"text-align: right;\">\n",
       "      <th></th>\n",
       "      <th>TARGET</th>\n",
       "      <th>NAME_CONTRACT_TYPE</th>\n",
       "      <th>CODE_GENDER</th>\n",
       "      <th>FLAG_OWN_CAR</th>\n",
       "      <th>FLAG_OWN_REALTY</th>\n",
       "      <th>CNT_CHILDREN</th>\n",
       "      <th>AMT_INCOME_TOTAL</th>\n",
       "      <th>AMT_CREDIT</th>\n",
       "      <th>AMT_ANNUITY</th>\n",
       "      <th>AMT_GOODS_PRICE</th>\n",
       "      <th>REGION_POPULATION_RELATIVE</th>\n",
       "      <th>AGE</th>\n",
       "      <th>YEARS_EMPLOYED</th>\n",
       "      <th>REGION_RATING_CLIENT</th>\n",
       "      <th>REGION_RATING_CLIENT_W_CITY</th>\n",
       "      <th>REG_REGION_NOT_LIVE_REGION</th>\n",
       "      <th>REG_CITY_NOT_LIVE_CITY</th>\n",
       "      <th>OBS_30_CNT_SOCIAL_CIRCLE</th>\n",
       "      <th>DEF_30_CNT_SOCIAL_CIRCLE</th>\n",
       "      <th>DAYS_LAST_PHONE_CHANGE</th>\n",
       "      <th>AMT_REQ_CREDIT_BUREAU_HOUR</th>\n",
       "      <th>AMT_REQ_CREDIT_BUREAU_WEEK</th>\n",
       "      <th>AMT_REQ_CREDIT_BUREAU_MON</th>\n",
       "      <th>AMT_REQ_CREDIT_BUREAU_YEAR</th>\n",
       "    </tr>\n",
       "  </thead>\n",
       "  <tbody>\n",
       "    <tr>\n",
       "      <th>count</th>\n",
       "      <td>297951.000000</td>\n",
       "      <td>297951.000000</td>\n",
       "      <td>297951.000000</td>\n",
       "      <td>297951.000000</td>\n",
       "      <td>297951.000000</td>\n",
       "      <td>297951.000000</td>\n",
       "      <td>297951.000000</td>\n",
       "      <td>2.979510e+05</td>\n",
       "      <td>297939.000000</td>\n",
       "      <td>2.976810e+05</td>\n",
       "      <td>297951.000000</td>\n",
       "      <td>297951.000000</td>\n",
       "      <td>297951.000000</td>\n",
       "      <td>297951.000000</td>\n",
       "      <td>297951.000000</td>\n",
       "      <td>297951.000000</td>\n",
       "      <td>297951.000000</td>\n",
       "      <td>297951.000000</td>\n",
       "      <td>297951.000000</td>\n",
       "      <td>297950.000000</td>\n",
       "      <td>257349.000000</td>\n",
       "      <td>257349.000000</td>\n",
       "      <td>257349.000000</td>\n",
       "      <td>257349.000000</td>\n",
       "    </tr>\n",
       "    <tr>\n",
       "      <th>mean</th>\n",
       "      <td>0.081889</td>\n",
       "      <td>0.341127</td>\n",
       "      <td>0.655866</td>\n",
       "      <td>0.341127</td>\n",
       "      <td>0.341127</td>\n",
       "      <td>0.423009</td>\n",
       "      <td>165909.394581</td>\n",
       "      <td>5.963340e+05</td>\n",
       "      <td>27016.912650</td>\n",
       "      <td>5.356417e+05</td>\n",
       "      <td>0.020817</td>\n",
       "      <td>43.735603</td>\n",
       "      <td>5.938761</td>\n",
       "      <td>2.054053</td>\n",
       "      <td>2.033079</td>\n",
       "      <td>0.015385</td>\n",
       "      <td>0.079849</td>\n",
       "      <td>1.364305</td>\n",
       "      <td>0.142107</td>\n",
       "      <td>960.185494</td>\n",
       "      <td>0.005868</td>\n",
       "      <td>0.033122</td>\n",
       "      <td>0.258843</td>\n",
       "      <td>1.903062</td>\n",
       "    </tr>\n",
       "    <tr>\n",
       "      <th>std</th>\n",
       "      <td>0.274196</td>\n",
       "      <td>0.474089</td>\n",
       "      <td>0.475086</td>\n",
       "      <td>0.474089</td>\n",
       "      <td>0.474089</td>\n",
       "      <td>0.722109</td>\n",
       "      <td>85436.002355</td>\n",
       "      <td>3.995488e+05</td>\n",
       "      <td>14212.829124</td>\n",
       "      <td>3.663521e+05</td>\n",
       "      <td>0.013787</td>\n",
       "      <td>11.974876</td>\n",
       "      <td>4.626738</td>\n",
       "      <td>0.508628</td>\n",
       "      <td>0.502412</td>\n",
       "      <td>0.123079</td>\n",
       "      <td>0.271059</td>\n",
       "      <td>2.130096</td>\n",
       "      <td>0.438644</td>\n",
       "      <td>825.474376</td>\n",
       "      <td>0.076375</td>\n",
       "      <td>0.186547</td>\n",
       "      <td>0.847621</td>\n",
       "      <td>1.869234</td>\n",
       "    </tr>\n",
       "    <tr>\n",
       "      <th>min</th>\n",
       "      <td>0.000000</td>\n",
       "      <td>0.000000</td>\n",
       "      <td>0.000000</td>\n",
       "      <td>0.000000</td>\n",
       "      <td>0.000000</td>\n",
       "      <td>0.000000</td>\n",
       "      <td>25650.000000</td>\n",
       "      <td>4.500000e+04</td>\n",
       "      <td>1615.500000</td>\n",
       "      <td>4.050000e+04</td>\n",
       "      <td>0.000290</td>\n",
       "      <td>20.517808</td>\n",
       "      <td>0.000000</td>\n",
       "      <td>1.000000</td>\n",
       "      <td>1.000000</td>\n",
       "      <td>0.000000</td>\n",
       "      <td>0.000000</td>\n",
       "      <td>0.000000</td>\n",
       "      <td>0.000000</td>\n",
       "      <td>0.000000</td>\n",
       "      <td>0.000000</td>\n",
       "      <td>0.000000</td>\n",
       "      <td>0.000000</td>\n",
       "      <td>0.000000</td>\n",
       "    </tr>\n",
       "    <tr>\n",
       "      <th>25%</th>\n",
       "      <td>0.000000</td>\n",
       "      <td>0.000000</td>\n",
       "      <td>0.000000</td>\n",
       "      <td>0.000000</td>\n",
       "      <td>0.000000</td>\n",
       "      <td>0.000000</td>\n",
       "      <td>112500.000000</td>\n",
       "      <td>2.700000e+05</td>\n",
       "      <td>16515.000000</td>\n",
       "      <td>2.385000e+05</td>\n",
       "      <td>0.010006</td>\n",
       "      <td>33.797260</td>\n",
       "      <td>2.504110</td>\n",
       "      <td>2.000000</td>\n",
       "      <td>2.000000</td>\n",
       "      <td>0.000000</td>\n",
       "      <td>0.000000</td>\n",
       "      <td>0.000000</td>\n",
       "      <td>0.000000</td>\n",
       "      <td>273.000000</td>\n",
       "      <td>0.000000</td>\n",
       "      <td>0.000000</td>\n",
       "      <td>0.000000</td>\n",
       "      <td>0.000000</td>\n",
       "    </tr>\n",
       "    <tr>\n",
       "      <th>50%</th>\n",
       "      <td>0.000000</td>\n",
       "      <td>0.000000</td>\n",
       "      <td>1.000000</td>\n",
       "      <td>0.000000</td>\n",
       "      <td>0.000000</td>\n",
       "      <td>0.000000</td>\n",
       "      <td>144000.000000</td>\n",
       "      <td>5.120640e+05</td>\n",
       "      <td>24880.500000</td>\n",
       "      <td>4.500000e+05</td>\n",
       "      <td>0.018850</td>\n",
       "      <td>42.756164</td>\n",
       "      <td>5.865753</td>\n",
       "      <td>2.000000</td>\n",
       "      <td>2.000000</td>\n",
       "      <td>0.000000</td>\n",
       "      <td>0.000000</td>\n",
       "      <td>0.000000</td>\n",
       "      <td>0.000000</td>\n",
       "      <td>754.000000</td>\n",
       "      <td>0.000000</td>\n",
       "      <td>0.000000</td>\n",
       "      <td>0.000000</td>\n",
       "      <td>1.000000</td>\n",
       "    </tr>\n",
       "    <tr>\n",
       "      <th>75%</th>\n",
       "      <td>0.000000</td>\n",
       "      <td>1.000000</td>\n",
       "      <td>1.000000</td>\n",
       "      <td>1.000000</td>\n",
       "      <td>1.000000</td>\n",
       "      <td>1.000000</td>\n",
       "      <td>202500.000000</td>\n",
       "      <td>8.086500e+05</td>\n",
       "      <td>34587.000000</td>\n",
       "      <td>6.795000e+05</td>\n",
       "      <td>0.028663</td>\n",
       "      <td>53.736986</td>\n",
       "      <td>7.205479</td>\n",
       "      <td>2.000000</td>\n",
       "      <td>2.000000</td>\n",
       "      <td>0.000000</td>\n",
       "      <td>0.000000</td>\n",
       "      <td>2.000000</td>\n",
       "      <td>0.000000</td>\n",
       "      <td>1566.000000</td>\n",
       "      <td>0.000000</td>\n",
       "      <td>0.000000</td>\n",
       "      <td>0.000000</td>\n",
       "      <td>3.000000</td>\n",
       "    </tr>\n",
       "    <tr>\n",
       "      <th>max</th>\n",
       "      <td>1.000000</td>\n",
       "      <td>1.000000</td>\n",
       "      <td>1.000000</td>\n",
       "      <td>1.000000</td>\n",
       "      <td>1.000000</td>\n",
       "      <td>9.000000</td>\n",
       "      <td>690399.000000</td>\n",
       "      <td>4.050000e+06</td>\n",
       "      <td>184477.500000</td>\n",
       "      <td>4.050000e+06</td>\n",
       "      <td>0.072508</td>\n",
       "      <td>69.043836</td>\n",
       "      <td>25.000000</td>\n",
       "      <td>3.000000</td>\n",
       "      <td>3.000000</td>\n",
       "      <td>1.000000</td>\n",
       "      <td>1.000000</td>\n",
       "      <td>12.000000</td>\n",
       "      <td>6.000000</td>\n",
       "      <td>4292.000000</td>\n",
       "      <td>1.000000</td>\n",
       "      <td>3.000000</td>\n",
       "      <td>13.000000</td>\n",
       "      <td>25.000000</td>\n",
       "    </tr>\n",
       "  </tbody>\n",
       "</table>\n",
       "</div>"
      ],
      "text/plain": [
       "              TARGET  NAME_CONTRACT_TYPE    CODE_GENDER   FLAG_OWN_CAR  \\\n",
       "count  297951.000000       297951.000000  297951.000000  297951.000000   \n",
       "mean        0.081889            0.341127       0.655866       0.341127   \n",
       "std         0.274196            0.474089       0.475086       0.474089   \n",
       "min         0.000000            0.000000       0.000000       0.000000   \n",
       "25%         0.000000            0.000000       0.000000       0.000000   \n",
       "50%         0.000000            0.000000       1.000000       0.000000   \n",
       "75%         0.000000            1.000000       1.000000       1.000000   \n",
       "max         1.000000            1.000000       1.000000       1.000000   \n",
       "\n",
       "       FLAG_OWN_REALTY   CNT_CHILDREN  AMT_INCOME_TOTAL    AMT_CREDIT  \\\n",
       "count    297951.000000  297951.000000     297951.000000  2.979510e+05   \n",
       "mean          0.341127       0.423009     165909.394581  5.963340e+05   \n",
       "std           0.474089       0.722109      85436.002355  3.995488e+05   \n",
       "min           0.000000       0.000000      25650.000000  4.500000e+04   \n",
       "25%           0.000000       0.000000     112500.000000  2.700000e+05   \n",
       "50%           0.000000       0.000000     144000.000000  5.120640e+05   \n",
       "75%           1.000000       1.000000     202500.000000  8.086500e+05   \n",
       "max           1.000000       9.000000     690399.000000  4.050000e+06   \n",
       "\n",
       "         AMT_ANNUITY  AMT_GOODS_PRICE  REGION_POPULATION_RELATIVE  \\\n",
       "count  297939.000000     2.976810e+05               297951.000000   \n",
       "mean    27016.912650     5.356417e+05                    0.020817   \n",
       "std     14212.829124     3.663521e+05                    0.013787   \n",
       "min      1615.500000     4.050000e+04                    0.000290   \n",
       "25%     16515.000000     2.385000e+05                    0.010006   \n",
       "50%     24880.500000     4.500000e+05                    0.018850   \n",
       "75%     34587.000000     6.795000e+05                    0.028663   \n",
       "max    184477.500000     4.050000e+06                    0.072508   \n",
       "\n",
       "                 AGE  YEARS_EMPLOYED  REGION_RATING_CLIENT  \\\n",
       "count  297951.000000   297951.000000         297951.000000   \n",
       "mean       43.735603        5.938761              2.054053   \n",
       "std        11.974876        4.626738              0.508628   \n",
       "min        20.517808        0.000000              1.000000   \n",
       "25%        33.797260        2.504110              2.000000   \n",
       "50%        42.756164        5.865753              2.000000   \n",
       "75%        53.736986        7.205479              2.000000   \n",
       "max        69.043836       25.000000              3.000000   \n",
       "\n",
       "       REGION_RATING_CLIENT_W_CITY  REG_REGION_NOT_LIVE_REGION  \\\n",
       "count                297951.000000               297951.000000   \n",
       "mean                      2.033079                    0.015385   \n",
       "std                       0.502412                    0.123079   \n",
       "min                       1.000000                    0.000000   \n",
       "25%                       2.000000                    0.000000   \n",
       "50%                       2.000000                    0.000000   \n",
       "75%                       2.000000                    0.000000   \n",
       "max                       3.000000                    1.000000   \n",
       "\n",
       "       REG_CITY_NOT_LIVE_CITY  OBS_30_CNT_SOCIAL_CIRCLE  \\\n",
       "count           297951.000000             297951.000000   \n",
       "mean                 0.079849                  1.364305   \n",
       "std                  0.271059                  2.130096   \n",
       "min                  0.000000                  0.000000   \n",
       "25%                  0.000000                  0.000000   \n",
       "50%                  0.000000                  0.000000   \n",
       "75%                  0.000000                  2.000000   \n",
       "max                  1.000000                 12.000000   \n",
       "\n",
       "       DEF_30_CNT_SOCIAL_CIRCLE  DAYS_LAST_PHONE_CHANGE  \\\n",
       "count             297951.000000           297950.000000   \n",
       "mean                   0.142107              960.185494   \n",
       "std                    0.438644              825.474376   \n",
       "min                    0.000000                0.000000   \n",
       "25%                    0.000000              273.000000   \n",
       "50%                    0.000000              754.000000   \n",
       "75%                    0.000000             1566.000000   \n",
       "max                    6.000000             4292.000000   \n",
       "\n",
       "       AMT_REQ_CREDIT_BUREAU_HOUR  AMT_REQ_CREDIT_BUREAU_WEEK  \\\n",
       "count               257349.000000               257349.000000   \n",
       "mean                     0.005868                    0.033122   \n",
       "std                      0.076375                    0.186547   \n",
       "min                      0.000000                    0.000000   \n",
       "25%                      0.000000                    0.000000   \n",
       "50%                      0.000000                    0.000000   \n",
       "75%                      0.000000                    0.000000   \n",
       "max                      1.000000                    3.000000   \n",
       "\n",
       "       AMT_REQ_CREDIT_BUREAU_MON  AMT_REQ_CREDIT_BUREAU_YEAR  \n",
       "count              257349.000000               257349.000000  \n",
       "mean                    0.258843                    1.903062  \n",
       "std                     0.847621                    1.869234  \n",
       "min                     0.000000                    0.000000  \n",
       "25%                     0.000000                    0.000000  \n",
       "50%                     0.000000                    1.000000  \n",
       "75%                     0.000000                    3.000000  \n",
       "max                    13.000000                   25.000000  "
      ]
     },
     "execution_count": 29,
     "metadata": {},
     "output_type": "execute_result"
    }
   ],
   "source": [
    "# Now lets see how we are doing for general distribution and outliers\n",
    "pd.set_option('display.max_columns', None)\n",
    "df.describe()\n",
    "pd.reset_option(\"max_columns\")\n",
    "# That is so much better"
   ]
  },
  {
   "cell_type": "markdown",
   "id": "17249182-dcff-44f1-aae7-a4fbb690413d",
   "metadata": {},
   "source": [
    "### Removing Null Values"
   ]
  },
  {
   "cell_type": "code",
   "execution_count": 30,
   "id": "c28682ff-9e43-43b6-979b-1930bfffba42",
   "metadata": {},
   "outputs": [
    {
     "data": {
      "text/plain": [
       "(297951, 30)"
      ]
     },
     "execution_count": 30,
     "metadata": {},
     "output_type": "execute_result"
    },
    {
     "data": {
      "text/plain": [
       "OCCUPATION_TYPE                31.664603\n",
       "AMT_REQ_CREDIT_BUREAU_YEAR     13.627073\n",
       "AMT_REQ_CREDIT_BUREAU_MON      13.627073\n",
       "AMT_REQ_CREDIT_BUREAU_WEEK     13.627073\n",
       "AMT_REQ_CREDIT_BUREAU_HOUR     13.627073\n",
       "AMT_GOODS_PRICE                 0.090619\n",
       "AMT_ANNUITY                     0.004028\n",
       "DAYS_LAST_PHONE_CHANGE          0.000336\n",
       "YEARS_EMPLOYED                  0.000000\n",
       "DEF_30_CNT_SOCIAL_CIRCLE        0.000000\n",
       "OBS_30_CNT_SOCIAL_CIRCLE        0.000000\n",
       "REG_CITY_NOT_LIVE_CITY          0.000000\n",
       "REG_REGION_NOT_LIVE_REGION      0.000000\n",
       "WEEKDAY_APPR_PROCESS_START      0.000000\n",
       "REGION_RATING_CLIENT_W_CITY     0.000000\n",
       "dtype: float64"
      ]
     },
     "execution_count": 30,
     "metadata": {},
     "output_type": "execute_result"
    }
   ],
   "source": [
    "# This is the dataset shape now\n",
    "df.shape\n",
    "# We will look at the remaining columns and the percentage of Null records in them\n",
    "percentNull = df.isnull().sum()*100/len(df)\n",
    "percentNull.sort_values(ascending = False).head(15)"
   ]
  },
  {
   "cell_type": "markdown",
   "id": "9c60dc6e-eea7-4e02-b006-88629b4fe268",
   "metadata": {},
   "source": [
    "# \n",
    "We see that 31% of the occupation_type is null. There is no reasonable way to impute this without creating significant distortions. Several plausable imputations can be thought of, but are too risky. Therefore, we will fill the null values with \"unknown,\" since the nulls may be unemployed, pensioners, or just errors. "
   ]
  },
  {
   "cell_type": "code",
   "execution_count": 31,
   "id": "8c34dd93-6a10-4878-a350-f69db4713d11",
   "metadata": {},
   "outputs": [],
   "source": [
    "# Filling the null values in the occupation_type column\n",
    "df[\"OCCUPATION_TYPE\"].fillna(\"Unknown\",inplace=True)"
   ]
  },
  {
   "cell_type": "code",
   "execution_count": 32,
   "id": "fbdaffbe-6744-49e5-82c3-730c88eee342",
   "metadata": {},
   "outputs": [
    {
     "data": {
      "image/png": "[encoded data removed]",
      "text/plain": [
       "<Figure size 720x504 with 1 Axes>"
      ]
     },
     "metadata": {
      "needs_background": "light"
     },
     "output_type": "display_data"
    }
   ],
   "source": [
    "# Lets visualize and explore the OCCUPATION_TYPE column\n",
    "occupationCount = df.OCCUPATION_TYPE.value_counts()\n",
    "occupationCount = occupationCount.to_frame().reset_index()\n",
    "occupationCount.rename(columns={\"index\":\"OCCUPATION_TYPE\",\"OCCUPATION_TYPE\":\"VALUE_COUNTS\"})\n",
    "\n",
    "plt.bar(occupationCount.iloc[:,0],occupationCount.iloc[:,1])\n",
    "plt.xticks(rotation=90)\n",
    "plt.title(\"Count of Occupation_Type in Dataset\")\n",
    "plt.show();"
   ]
  },
  {
   "cell_type": "code",
   "execution_count": 33,
   "id": "ccaf4815-01c3-4d7b-b70e-888d10674a63",
   "metadata": {},
   "outputs": [
    {
     "data": {
      "text/plain": [
       "AMT_REQ_CREDIT_BUREAU_YEAR    13.627073\n",
       "AMT_REQ_CREDIT_BUREAU_MON     13.627073\n",
       "AMT_REQ_CREDIT_BUREAU_WEEK    13.627073\n",
       "AMT_REQ_CREDIT_BUREAU_HOUR    13.627073\n",
       "AMT_GOODS_PRICE                0.090619\n",
       "AMT_ANNUITY                    0.004028\n",
       "DAYS_LAST_PHONE_CHANGE         0.000336\n",
       "YEARS_EMPLOYED                 0.000000\n",
       "DEF_30_CNT_SOCIAL_CIRCLE       0.000000\n",
       "OBS_30_CNT_SOCIAL_CIRCLE       0.000000\n",
       "dtype: float64"
      ]
     },
     "execution_count": 33,
     "metadata": {},
     "output_type": "execute_result"
    }
   ],
   "source": [
    "# We will now look at the rest of the top columns with null records\n",
    "percentNull = df.isnull().sum()*100/len(df)\n",
    "percentNull.sort_values(ascending = False).head(10)"
   ]
  },
  {
   "cell_type": "markdown",
   "id": "049273f3-3405-4139-ba10-3e75502282c3",
   "metadata": {},
   "source": [
    "#\n",
    "As we can see, the 6 AMT_REQ_CREDIT_BUREAU columns which list the number of enquiries to the Credit Bureau about the client, X time before the application, all have the same percentage of values as null. We will therefore look at the values and their count in these columns and see if we can get a better understanding."
   ]
  },
  {
   "cell_type": "code",
   "execution_count": 34,
   "id": "d8f38c65-0741-4e77-a262-a694c3e63ff6",
   "metadata": {
    "tags": []
   },
   "outputs": [
    {
     "data": {
      "text/plain": [
       "0.0    255839\n",
       "1.0      1510\n",
       "Name: AMT_REQ_CREDIT_BUREAU_HOUR, dtype: int64"
      ]
     },
     "execution_count": 34,
     "metadata": {},
     "output_type": "execute_result"
    }
   ],
   "source": [
    "# Looking at values and their count in the AMT_REQ_CREDIT_BUREAU coulmns\n",
    "# Note that all columns had 0 as the most common value. (Commented out for sapce)\n",
    "\n",
    "df.AMT_REQ_CREDIT_BUREAU_HOUR.value_counts()\n",
    "# df.AMT_REQ_CREDIT_BUREAU_YEAR.value_counts()\n",
    "# df.AMT_REQ_CREDIT_BUREAU_MON.value_counts()\n",
    "# df.AMT_REQ_CREDIT_BUREAU_WEEK.value_counts()"
   ]
  },
  {
   "cell_type": "markdown",
   "id": "803bf366-9fde-4bfd-a445-98f60126a8ff",
   "metadata": {},
   "source": [
    "#\n",
    "Zero is the most common value in all columns. This means that the person has not had a credit check in the last period and that this lending institution is likely the first place the person is going to for a loan. Because it is the mode, and since sometimes null is conflated with zero in datasets, we will fill all these null values with zero."
   ]
  },
  {
   "cell_type": "code",
   "execution_count": 35,
   "id": "cc4ef7a3-4768-4ff3-a116-0b93b11b1996",
   "metadata": {},
   "outputs": [],
   "source": [
    "# Filling the null values in the AMT_REQ_CREDIT_BUREAU columns\n",
    "df.AMT_REQ_CREDIT_BUREAU_HOUR.fillna(0,inplace=True)\n",
    "df.AMT_REQ_CREDIT_BUREAU_YEAR.fillna(0,inplace=True)\n",
    "df.AMT_REQ_CREDIT_BUREAU_MON.fillna(0,inplace=True)\n",
    "df.AMT_REQ_CREDIT_BUREAU_WEEK.fillna(0,inplace=True)"
   ]
  },
  {
   "cell_type": "code",
   "execution_count": 36,
   "id": "3fa0846f-b752-4c3d-8683-3eae4e703178",
   "metadata": {},
   "outputs": [
    {
     "data": {
      "text/plain": [
       "AMT_GOODS_PRICE               0.090619\n",
       "AMT_ANNUITY                   0.004028\n",
       "DAYS_LAST_PHONE_CHANGE        0.000336\n",
       "TARGET                        0.000000\n",
       "YEARS_EMPLOYED                0.000000\n",
       "AMT_REQ_CREDIT_BUREAU_MON     0.000000\n",
       "AMT_REQ_CREDIT_BUREAU_WEEK    0.000000\n",
       "AMT_REQ_CREDIT_BUREAU_HOUR    0.000000\n",
       "DEF_30_CNT_SOCIAL_CIRCLE      0.000000\n",
       "OBS_30_CNT_SOCIAL_CIRCLE      0.000000\n",
       "dtype: float64"
      ]
     },
     "execution_count": 36,
     "metadata": {},
     "output_type": "execute_result"
    }
   ],
   "source": [
    "# We will now look again at the top columns with Null records\n",
    "percentNull = df.isnull().sum()*100/len(df)\n",
    "percentNull.sort_values(ascending = False).head(10)"
   ]
  },
  {
   "cell_type": "markdown",
   "id": "00160d9d-75bb-42bc-be84-72eb1d4e3235",
   "metadata": {},
   "source": [
    "#\n",
    "We see that the highest percentage of null values is 0.41% of null values. While statistical imputation methods could be applied to eliminate the null values, this would require further exploration for each column. Since we have more than enough records in this dataset for our purposes, we will just drop all records with null values for the remaining columns with minimal effect on the dataset size."
   ]
  },
  {
   "cell_type": "code",
   "execution_count": 37,
   "id": "cafcf1cd-253f-4dc9-b53d-287cd1d1f10d",
   "metadata": {},
   "outputs": [
    {
     "name": "stdout",
     "output_type": "stream",
     "text": [
      "We lost 283 records from the dataset and our new dataset shape is: (297668, 30)\n"
     ]
    }
   ],
   "source": [
    "# Taking initial dataset shape before removing null records\n",
    "before = df.shape\n",
    "# Removing null records from dataset\n",
    "df.dropna(axis=0, how='any',inplace=True)\n",
    "# Taking dataset shape after removing null records to determine how much was lost\n",
    "after = df.shape\n",
    "# Calculating and printing how many records were dropped\n",
    "lost = (before[0])-(after[0])\n",
    "print(f\"We lost {lost} records from the dataset and our new dataset shape is: {after}\")"
   ]
  },
  {
   "cell_type": "code",
   "execution_count": 38,
   "id": "72992cbd-365d-4a2f-b75a-168f416f28df",
   "metadata": {},
   "outputs": [
    {
     "name": "stdout",
     "output_type": "stream",
     "text": [
      "<class 'pandas.core.frame.DataFrame'>\n",
      "Int64Index: 297668 entries, 0 to 307510\n",
      "Data columns (total 30 columns):\n",
      " #   Column                       Non-Null Count   Dtype  \n",
      "---  ------                       --------------   -----  \n",
      " 0   TARGET                       297668 non-null  int64  \n",
      " 1   NAME_CONTRACT_TYPE           297668 non-null  int64  \n",
      " 2   CODE_GENDER                  297668 non-null  int64  \n",
      " 3   FLAG_OWN_CAR                 297668 non-null  int64  \n",
      " 4   FLAG_OWN_REALTY              297668 non-null  int64  \n",
      " 5   CNT_CHILDREN                 297668 non-null  int64  \n",
      " 6   AMT_INCOME_TOTAL             297668 non-null  float64\n",
      " 7   AMT_CREDIT                   297668 non-null  float64\n",
      " 8   AMT_ANNUITY                  297668 non-null  float64\n",
      " 9   AMT_GOODS_PRICE              297668 non-null  float64\n",
      " 10  NAME_INCOME_TYPE             297668 non-null  object \n",
      " 11  NAME_EDUCATION_TYPE          297668 non-null  object \n",
      " 12  NAME_FAMILY_STATUS           297668 non-null  object \n",
      " 13  NAME_HOUSING_TYPE            297668 non-null  object \n",
      " 14  REGION_POPULATION_RELATIVE   297668 non-null  float64\n",
      " 15  AGE                          297668 non-null  float64\n",
      " 16  YEARS_EMPLOYED               297668 non-null  float64\n",
      " 17  OCCUPATION_TYPE              297668 non-null  object \n",
      " 18  REGION_RATING_CLIENT         297668 non-null  int64  \n",
      " 19  REGION_RATING_CLIENT_W_CITY  297668 non-null  int64  \n",
      " 20  WEEKDAY_APPR_PROCESS_START   297668 non-null  object \n",
      " 21  REG_REGION_NOT_LIVE_REGION   297668 non-null  int64  \n",
      " 22  REG_CITY_NOT_LIVE_CITY       297668 non-null  int64  \n",
      " 23  OBS_30_CNT_SOCIAL_CIRCLE     297668 non-null  float64\n",
      " 24  DEF_30_CNT_SOCIAL_CIRCLE     297668 non-null  float64\n",
      " 25  DAYS_LAST_PHONE_CHANGE       297668 non-null  float64\n",
      " 26  AMT_REQ_CREDIT_BUREAU_HOUR   297668 non-null  float64\n",
      " 27  AMT_REQ_CREDIT_BUREAU_WEEK   297668 non-null  float64\n",
      " 28  AMT_REQ_CREDIT_BUREAU_MON    297668 non-null  float64\n",
      " 29  AMT_REQ_CREDIT_BUREAU_YEAR   297668 non-null  float64\n",
      "dtypes: float64(14), int64(10), object(6)\n",
      "memory usage: 70.4+ MB\n"
     ]
    }
   ],
   "source": [
    "# Now we take a look at the remaining columns, their Dtype, and see that there are no more Null values \n",
    "df.info(verbose=True,null_counts=True)"
   ]
  },
  {
   "cell_type": "markdown",
   "id": "e9ea06ab-86d6-4a8d-9719-8b6893443bc1",
   "metadata": {},
   "source": [
    "### EDA"
   ]
  },
  {
   "cell_type": "code",
   "execution_count": 85,
   "id": "33d4e2b4-8179-4035-b5c8-68768a017e1c",
   "metadata": {},
   "outputs": [
    {
     "name": "stdout",
     "output_type": "stream",
     "text": [
      "Number of clients who defualted on the loan: 24378\n",
      "Number of clients who did not defualt on the loan: 273290\n"
     ]
    },
    {
     "data": {
      "image/png": "[encoded data removed]",
      "text/plain": [
       "<Figure size 720x504 with 1 Axes>"
      ]
     },
     "metadata": {},
     "output_type": "display_data"
    }
   ],
   "source": [
    "# Spliting up the dataset based on if the client defualted on the loan or not\n",
    "dfDefualt = df[df.TARGET == 1]\n",
    "dfNoDefualt = df[df.TARGET == 0]\n",
    "print(f\"Number of clients who defualted on the loan: {dfDefualt.TARGET.count()}\")\n",
    "print(f\"Number of clients who did not defualt on the loan: {dfNoDefualt.TARGET.count()}\")\n",
    "plt.pie(df.TARGET.value_counts(), autopct='%1.1f%%', labels = [\"Did not defualt\",\"Defualted on the Loan\"])\n",
    "# We see significant imbalances in the data. We will take care of this when building the model. \n",
    "plt.show();"
   ]
  },
  {
   "cell_type": "code",
   "execution_count": null,
   "id": "5a01bbab-48bb-4c4a-83b6-b86b58910bbe",
   "metadata": {},
   "outputs": [],
   "source": []
  },
  {
   "cell_type": "code",
   "execution_count": null,
   "id": "47cb593c-1399-4344-8e63-25e401f57c06",
   "metadata": {},
   "outputs": [],
   "source": []
  },
  {
   "cell_type": "code",
   "execution_count": 40,
   "id": "711def69-496a-431d-9d02-47eafe1ca61f",
   "metadata": {},
   "outputs": [
    {
     "data": {
      "image/png": "[encoded data removed]",
      "text/plain": [
       "<Figure size 360x360 with 1 Axes>"
      ]
     },
     "metadata": {
      "needs_background": "light"
     },
     "output_type": "display_data"
    }
   ],
   "source": [
    "# Plot the income and the target outcomes\n",
    "# We can see that those who default have slightly lower incomes on average\n",
    "sns.catplot(x = \"TARGET\", y = \"AMT_INCOME_TOTAL\", data = df,  kind=\"box\")\n",
    "plt.show();"
   ]
  },
  {
   "cell_type": "code",
   "execution_count": 41,
   "id": "c6dc7171-c98c-43fa-9408-362d2ef21897",
   "metadata": {},
   "outputs": [
    {
     "data": {
      "image/png": "[encoded data removed]",
      "text/plain": [
       "<Figure size 360x360 with 1 Axes>"
      ]
     },
     "metadata": {
      "needs_background": "light"
     },
     "output_type": "display_data"
    }
   ],
   "source": [
    "# Plot the Age and the target outcomes\n",
    "# We can see that those who default are more often younger on average\n",
    "sns.catplot(x = \"TARGET\", y = \"AGE\", data = df,  kind=\"box\")\n",
    "plt.show();"
   ]
  },
  {
   "cell_type": "code",
   "execution_count": 42,
   "id": "e2fd8a90-ece7-4853-a0d7-8afc88046040",
   "metadata": {},
   "outputs": [
    {
     "data": {
      "image/png": "[encoded data removed]",
      "text/plain": [
       "<Figure size 360x360 with 1 Axes>"
      ]
     },
     "metadata": {
      "needs_background": "light"
     },
     "output_type": "display_data"
    }
   ],
   "source": [
    "# Plot the Years Employed and the target outcomes\n",
    "# We can see that those who default have a shorter employment period on average\n",
    "sns.catplot(x = \"TARGET\", y = \"YEARS_EMPLOYED\", data = df, kind=\"box\")\n",
    "plt.show();"
   ]
  },
  {
   "cell_type": "code",
   "execution_count": 78,
   "id": "3d5a0325-d903-425a-96cd-efc2ca3e1ac5",
   "metadata": {},
   "outputs": [
    {
     "data": {
      "image/png": "[encoded data removed]",
      "text/plain": [
       "<Figure size 720x504 with 1 Axes>"
      ]
     },
     "metadata": {},
     "output_type": "display_data"
    }
   ],
   "source": [
    "# Look at distribution of clients by education type\n",
    "plt.pie(\n",
    "    df.NAME_EDUCATION_TYPE.value_counts(),labels = df.NAME_EDUCATION_TYPE.unique(),\n",
    "    explode=[0,0,0,0.2,0.4],autopct='%1.1f%%')\n",
    "plt.legend()\n",
    "plt.title(\"Distribution of clients by Education Type\")\n",
    "plt.show();"
   ]
  },
  {
   "cell_type": "code",
   "execution_count": 44,
   "id": "ce1fafb2-2eb0-482c-b7f9-e206396d328b",
   "metadata": {},
   "outputs": [
    {
     "name": "stdout",
     "output_type": "stream",
     "text": [
      "Number of numerical columns: 24\n",
      "Number of categorical columns: 6\n"
     ]
    }
   ],
   "source": [
    "# Create a list of all the Catagorical features and a list of all the numerical/ features\n",
    "cat = list(df.select_dtypes([\"object\"]).columns)\n",
    "num = list(df.select_dtypes([\"float64\",\"int64\"]).columns)\n",
    "print(f\"Number of numerical columns: {len(num)}\")\n",
    "print(f\"Number of categorical columns: {len(cat)}\")"
   ]
  },
  {
   "cell_type": "code",
   "execution_count": 83,
   "id": "5fe581bb-731a-4fad-91d0-cd123dd4d2bd",
   "metadata": {},
   "outputs": [
    {
     "data": {
      "text/plain": [
       "['NAME_INCOME_TYPE',\n",
       " 'NAME_EDUCATION_TYPE',\n",
       " 'NAME_FAMILY_STATUS',\n",
       " 'NAME_HOUSING_TYPE',\n",
       " 'OCCUPATION_TYPE',\n",
       " 'WEEKDAY_APPR_PROCESS_START']"
      ]
     },
     "execution_count": 83,
     "metadata": {},
     "output_type": "execute_result"
    }
   ],
   "source": [
    "cat"
   ]
  },
  {
   "cell_type": "code",
   "execution_count": 46,
   "id": "02b4f62d-684e-47a7-b55f-1528fee8e62c",
   "metadata": {},
   "outputs": [
    {
     "data": {
      "text/plain": [
       "array(['Working', 'State servant', 'Commercial associate', 'Pensioner',\n",
       "       'Unemployed', 'Student', 'Maternity leave', 'Businessman'],\n",
       "      dtype=object)"
      ]
     },
     "execution_count": 46,
     "metadata": {},
     "output_type": "execute_result"
    },
    {
     "data": {
      "text/plain": [
       "array(['Secondary / secondary special', 'Higher education',\n",
       "       'Incomplete higher', 'Lower secondary', 'Academic degree'],\n",
       "      dtype=object)"
      ]
     },
     "execution_count": 46,
     "metadata": {},
     "output_type": "execute_result"
    },
    {
     "data": {
      "text/plain": [
       "array(['House / apartment', 'Rented apartment', 'With parents',\n",
       "       'Municipal apartment', 'Office apartment', 'Co-op apartment'],\n",
       "      dtype=object)"
      ]
     },
     "execution_count": 46,
     "metadata": {},
     "output_type": "execute_result"
    },
    {
     "data": {
      "text/plain": [
       "array(['Laborers', 'Core staff', 'Accountants', 'Managers', 'Unknown',\n",
       "       'Drivers', 'Sales staff', 'Cleaning staff', 'Cooking staff',\n",
       "       'Private service staff', 'Medicine staff', 'Security staff',\n",
       "       'High skill tech staff', 'Waiters/barmen staff',\n",
       "       'Low-skill Laborers', 'Realty agents', 'Secretaries', 'IT staff',\n",
       "       'HR staff'], dtype=object)"
      ]
     },
     "execution_count": 46,
     "metadata": {},
     "output_type": "execute_result"
    },
    {
     "data": {
      "text/plain": [
       "array(['WEDNESDAY', 'MONDAY', 'THURSDAY', 'SUNDAY', 'SATURDAY', 'FRIDAY',\n",
       "       'TUESDAY'], dtype=object)"
      ]
     },
     "execution_count": 46,
     "metadata": {},
     "output_type": "execute_result"
    },
    {
     "data": {
      "text/plain": [
       "array(['Single / not married', 'Married', 'Civil marriage', 'Widow',\n",
       "       'Separated'], dtype=object)"
      ]
     },
     "execution_count": 46,
     "metadata": {},
     "output_type": "execute_result"
    }
   ],
   "source": [
    "\n",
    "df.NAME_INCOME_TYPE.unique()\n",
    "df.NAME_EDUCATION_TYPE.unique()\n",
    "df.NAME_HOUSING_TYPE.unique()\n",
    "df.OCCUPATION_TYPE.unique()\n",
    "df.WEEKDAY_APPR_PROCESS_START.unique()\n",
    "df.NAME_FAMILY_STATUS.unique()"
   ]
  },
  {
   "cell_type": "code",
   "execution_count": 79,
   "id": "11fe4da0-04fd-453d-9268-4ab7af727fac",
   "metadata": {},
   "outputs": [],
   "source": [
    "# # One Hot Encoding\n",
    "# from sklearn.compose import ColumnTransformer\n",
    "# from sklearn.preprocessing import OneHotEncoder\n",
    "\n",
    "# ct = ColumnTransformer(transformers=[('encoder', OneHotEncoder(), [3])], remainder='passthrough')\n",
    "# X = np.array(ct.fit_transform(X)) # __init__, fit, transform"
   ]
  },
  {
   "cell_type": "code",
   "execution_count": null,
   "id": "ac2dd72f-4889-4bc5-b16c-d63bdca97bcf",
   "metadata": {},
   "outputs": [],
   "source": [
    "# from sklearn.feature_selection import SelectKBest\n",
    "# from sklearn.feature_selection import chi2\n",
    "# # X, y = df(return_X_y=True)\n",
    "\n",
    "# X_new = SelectKBest(chi2, k=2).fit_transform(X, y)"
   ]
  },
  {
   "cell_type": "code",
   "execution_count": null,
   "id": "7d3769b5-7403-4df8-a2e5-226a17434a9a",
   "metadata": {},
   "outputs": [],
   "source": [
    "# Check the correlation between all variables\n",
    "# There are some highly correlated variables\n",
    "plt.figure(figsize=(30, 25))\n",
    "sns.heatmap(df.corr(), vmin=-1, cmap='coolwarm', annot=True)\n",
    "plt.show();"
   ]
  },
  {
   "cell_type": "code",
   "execution_count": null,
   "id": "5139176f-675c-4faa-8566-3ba39ca7a94d",
   "metadata": {},
   "outputs": [],
   "source": [
    "# defining our variables\n",
    "X = df.iloc[:,6:10]\n",
    "y = df.iloc[:,1]"
   ]
  },
  {
   "cell_type": "code",
   "execution_count": null,
   "id": "86ac73d7-280d-4124-a88e-2a52a887d968",
   "metadata": {},
   "outputs": [],
   "source": [
    "from sklearn.model_selection import train_test_split\n",
    "X_train, X_test, y_train, y_test = train_test_split(X, y, test_size = 0.25, random_state = 0)"
   ]
  },
  {
   "cell_type": "markdown",
   "id": "29060c23-3486-4e08-8b3f-91e5fa30d1c1",
   "metadata": {},
   "source": [
    "#### Feature Scaling"
   ]
  },
  {
   "cell_type": "code",
   "execution_count": null,
   "id": "d3dc86b7-0e85-4620-ac29-aeee9903e44e",
   "metadata": {},
   "outputs": [],
   "source": [
    "from sklearn.preprocessing import StandardScaler\n",
    "sc = StandardScaler()\n",
    "X_train = sc.fit_transform(X_train)\n",
    "X_test = sc.transform(X_test)"
   ]
  },
  {
   "cell_type": "code",
   "execution_count": null,
   "id": "4313c2ac-be3e-4403-9e1a-c9d284d1e700",
   "metadata": {},
   "outputs": [],
   "source": [
    "from sklearn.ensemble import RandomForestClassifier\n",
    "classifier = RandomForestClassifier(n_estimators = 100, criterion = 'entropy', random_state = 0)\n",
    "classifier.fit(X_train, y_train)"
   ]
  },
  {
   "cell_type": "code",
   "execution_count": null,
   "id": "8a61c62a-ca16-41eb-b065-b0e766dba0a3",
   "metadata": {},
   "outputs": [],
   "source": [
    "y_pred = classifier.predict(X_test)"
   ]
  },
  {
   "cell_type": "code",
   "execution_count": null,
   "id": "98f80f82-377a-4754-8037-e24d3fdf364f",
   "metadata": {},
   "outputs": [],
   "source": [
    "from sklearn.metrics import confusion_matrix\n",
    "cm = confusion_matrix(y_test, y_pred)\n",
    "print(cm)"
   ]
  },
  {
   "cell_type": "code",
   "execution_count": null,
   "id": "8dd86056-f3e1-48e5-a613-8a4c24aa607a",
   "metadata": {},
   "outputs": [],
   "source": [
    "from sklearn.metrics import confusion_matrix\n",
    "cm = confusion_matrix(y_test, y_pred)\n",
    "print(cm)"
   ]
  },
  {
   "cell_type": "code",
   "execution_count": null,
   "id": "a198ca18-add0-43bb-95da-b7e4c97523dc",
   "metadata": {},
   "outputs": [],
   "source": [
    "(68693 +219)/(68693 + 1454 +5931+ 219)*100"
   ]
  },
  {
   "cell_type": "code",
   "execution_count": null,
   "id": "a5c51187-5893-4b81-891b-525d4dc93760",
   "metadata": {},
   "outputs": [],
   "source": [
    "X\n",
    "y"
   ]
  },
  {
   "cell_type": "code",
   "execution_count": null,
   "id": "d53ad556-c84e-4bfe-b4a5-ea501742063a",
   "metadata": {},
   "outputs": [],
   "source": []
  },
  {
   "cell_type": "markdown",
   "id": "9e02bbbe-3698-422f-8dbe-24402325bb2e",
   "metadata": {},
   "source": [
    "Don't do forward fill because oit may be dependant on other features.\n",
    "\n",
    "Fill with zero the rest of bureau\n",
    "Fill with unknown or unemployed the occupation nulls"
   ]
  }
 ],
 "metadata": {
  "kernelspec": {
   "display_name": "Python 3",
   "language": "python",
   "name": "python3"
  },
  "language_info": {
   "codemirror_mode": {
    "name": "ipython",
    "version": 3
   },
   "file_extension": ".py",
   "mimetype": "text/x-python",
   "name": "python",
   "nbconvert_exporter": "python",
   "pygments_lexer": "ipython3",
   "version": "3.9.5"
  }
 },
 "nbformat": 4,
 "nbformat_minor": 5
}
